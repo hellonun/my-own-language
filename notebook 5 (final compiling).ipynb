{
 "cells": [
  {
   "cell_type": "code",
   "execution_count": 358,
   "metadata": {},
   "outputs": [
    {
     "name": "stdout",
     "output_type": "stream",
     "text": [
      "Requirement already satisfied: pronouncing in /anaconda3/lib/python3.7/site-packages (0.2.0)\r\n",
      "Requirement already satisfied: cmudict>=0.4.0 in /anaconda3/lib/python3.7/site-packages (from pronouncing) (0.4.2)\r\n"
     ]
    }
   ],
   "source": [
    "!pip install pronouncing\n",
    "from collections import Counter\n",
    "import pronouncing\n",
    "import random"
   ]
  },
  {
   "cell_type": "code",
   "execution_count": 359,
   "metadata": {},
   "outputs": [
    {
     "name": "stdout",
     "output_type": "stream",
     "text": [
      "['GKKKKK', 'HUNST', 'HAFATATATATATAK', 'G', 'SAH', 'PHAAAAAAA', 'HUNST', 'PHASASSK', 'PSHGK', 'PASUSK', 'SAFASHAFA', 'PASA', 'PASSK', 'PHSAKUK', 'REDIT', 'KAPASHTATUK', 'YUCK', 'TANST', 'MAWALAH', 'FOSE']\n"
     ]
    }
   ],
   "source": [
    "angry_words = open(\"angry.txt\").read().split()\n",
    "random_angry_words = random.sample(angry_words, 20)\n",
    "print (random_angry_words)"
   ]
  },
  {
   "cell_type": "code",
   "execution_count": 360,
   "metadata": {},
   "outputs": [
    {
     "data": {
      "text/plain": [
       "[(('P', 'A', 'S', 'A'), 17),\n",
       " ((' ', 'P', 'A', 'S'), 17),\n",
       " (('K', ' ', 'P', 'A'), 12),\n",
       " (('N', 'S', 'T', ' '), 12),\n",
       " (('U', 'N', 'S', 'T'), 11),\n",
       " (('A', 'K', 'U', 'K'), 11),\n",
       " (('K', 'U', 'K', ' '), 11),\n",
       " (('U', 'S', 'K', ' '), 11),\n",
       " (('K', ' ', 'H', 'A'), 10),\n",
       " (('A', 'T', 'A', 'K'), 10),\n",
       " (('T', 'A', 'K', ' '), 10),\n",
       " (('P', 'H', 'A', 'S'), 9),\n",
       " (('K', 'K', 'K', 'K'), 8),\n",
       " (('K', ' ', 'H', 'U'), 8),\n",
       " (('A', 'A', 'A', 'A'), 8),\n",
       " (('H', 'A', 'S', 'A'), 8),\n",
       " (('A', 'T', 'A', 'T'), 8),\n",
       " (('S', 'K', ' ', 'H'), 8),\n",
       " (('H', 'H', 'H', 'H'), 7),\n",
       " (('U', 'K', ' ', 'P'), 7)]"
      ]
     },
     "execution_count": 360,
     "metadata": {},
     "output_type": "execute_result"
    }
   ],
   "source": [
    "angry_str = open(\"angry.txt\").read()\n",
    "a_pairs = [(angry_str[i], angry_str[i+1], angry_str[i+2], angry_str[i+3]) \n",
    "              for i in range(len(angry_str) - 3)]\n",
    "Counter(a_pairs).most_common(20)"
   ]
  },
  {
   "cell_type": "code",
   "execution_count": 361,
   "metadata": {},
   "outputs": [],
   "source": [
    "# most common characters\n",
    "#(('P', 'A', 'S', 'A'), 17), \n",
    "#(('U', 'N', 'S', 'T'), 11), \n",
    "#(('A', 'K', 'U', 'K'), 11),\n",
    "#(('A', 'T', 'A', 'K'), 10), \n",
    "#(('P', 'H', 'A', 'S'), 9), "
   ]
  },
  {
   "cell_type": "code",
   "execution_count": 362,
   "metadata": {},
   "outputs": [
    {
     "name": "stdout",
     "output_type": "stream",
     "text": [
      "['PASAHUNST', 'PASATUK'] ['KUNST', 'HUNST'] ['PASASHKAMAQAFASAMATAK', 'NAFASHAPASATAK'] ['PAKUK', 'STAAKAKUK'] ['PHASAKUK', 'PHASASSK']\n"
     ]
    }
   ],
   "source": [
    "pasa_words = [item for item in angry_words if item.startswith(\"PASA\")]\n",
    "unst_words = [item for item in angry_words if item.endswith(\"UNST\")]\n",
    "atak_words = [item for item in angry_words if item.endswith(\"ATAK\")]\n",
    "akuk_words = [item for item in angry_words if item.endswith(\"AKUK\")]\n",
    "phas_words = [item for item in angry_words if item.startswith(\"PHAS\")]\n",
    "random_pasa_words = random.sample(pasa_words, 2)\n",
    "random_unst_words = random.sample(unst_words, 2)\n",
    "random_atak_words = random.sample(atak_words, 2)\n",
    "random_akuk_words = random.sample(akuk_words, 2)\n",
    "random_phas_words = random.sample(phas_words, 2)\n",
    "print (random_pasa_words,random_unst_words,random_atak_words,random_akuk_words,random_phas_words)"
   ]
  },
  {
   "cell_type": "code",
   "execution_count": 363,
   "metadata": {},
   "outputs": [
    {
     "name": "stdout",
     "output_type": "stream",
     "text": [
      "['porpoises', 'purposes'] ['shorenstein', 'borenstein'] ['stucker', 'stuck'] ['kuchler', 'kucher'] [\"deficit's\", 'orifices']\n"
     ]
    }
   ],
   "source": [
    "pasa = pronouncing.search(\"P AH0 S AH0\")\n",
    "unst = pronouncing.search(\"AH0 N S T\")\n",
    "atak = pronouncing.search(\"T AH1 K\")\n",
    "akuk = pronouncing.search(\"K AH1 K\")\n",
    "phas = pronouncing.search(\"F AH0 S\")\n",
    "random_pasa = random.sample(pasa, 2)\n",
    "random_unst = random.sample(unst, 2)\n",
    "random_atak = random.sample(atak, 2)\n",
    "random_akuk = random.sample(akuk, 2)\n",
    "random_phas = random.sample(phas, 2)\n",
    "print (random_pasa,random_unst,random_atak,random_akuk,random_phas)"
   ]
  },
  {
   "cell_type": "code",
   "execution_count": 364,
   "metadata": {},
   "outputs": [
    {
     "name": "stdout",
     "output_type": "stream",
     "text": [
      "['unstable', 'kuck', 'constrained', 'emphasized', 'unbalanced', 'cuckoo', 'stuck', 'confiscated']\n"
     ]
    }
   ],
   "source": [
    "angry_selected = open(\"angry_selected.txt\").read().split()\n",
    "random_angry_selected = random.sample(angry_selected, 8)\n",
    "print (random_angry_selected)"
   ]
  },
  {
   "cell_type": "code",
   "execution_count": 365,
   "metadata": {},
   "outputs": [
    {
     "name": "stdout",
     "output_type": "stream",
     "text": [
      "stuck panic\n"
     ]
    }
   ],
   "source": [
    "print (\"stuck panic\")"
   ]
  },
  {
   "cell_type": "code",
   "execution_count": 366,
   "metadata": {},
   "outputs": [
    {
     "name": "stdout",
     "output_type": "stream",
     "text": [
      "['GKKKKK', 'HUNST', 'HAFATATATATATAK', 'G', 'SAH', 'PHAAAAAAA', 'HUNST', 'PHASASSK', 'PSHGK', 'PASUSK', 'SAFASHAFA', 'PASA', 'PASSK', 'PHSAKUK', 'REDIT', 'KAPASHTATUK', 'YUCK', 'TANST', 'MAWALAH', 'FOSE']\n",
      "['PASAHUNST', 'PASATUK'] ['KUNST', 'HUNST'] ['PASASHKAMAQAFASAMATAK', 'NAFASHAPASATAK'] ['PAKUK', 'STAAKAKUK'] ['PHASAKUK', 'PHASASSK']\n",
      "['porpoises', 'purposes'] ['shorenstein', 'borenstein'] ['stucker', 'stuck'] ['kuchler', 'kucher'] [\"deficit's\", 'orifices']\n",
      "['unstable', 'kuck', 'constrained', 'emphasized', 'unbalanced', 'cuckoo', 'stuck', 'confiscated']\n",
      "stuck panic\n",
      "panic\n"
     ]
    }
   ],
   "source": [
    "print (random_angry_words)\n",
    "print (random_pasa_words,random_unst_words,random_atak_words,random_akuk_words,random_phas_words)\n",
    "print (random_pasa,random_unst,random_atak,random_akuk,random_phas)\n",
    "print (random_angry_selected)\n",
    "print (\"stuck panic\")\n",
    "print (\"panic\")"
   ]
  },
  {
   "cell_type": "code",
   "execution_count": 367,
   "metadata": {},
   "outputs": [
    {
     "name": "stdout",
     "output_type": "stream",
     "text": [
      "['GKKKKK', 'HUNST', 'HAFATATATATATAK', 'G', 'SAH', 'PHAAAAAAA', 'HUNST', 'PHASASSK', 'PSHGK', 'PASUSK', 'SAFASHAFA', 'PASA', 'PASSK', 'PHSAKUK', 'REDIT', 'KAPASHTATUK', 'YUCK', 'TANST', 'MAWALAH', 'FOSE']\n"
     ]
    }
   ],
   "source": [
    "print (random_angry_words)"
   ]
  },
  {
   "cell_type": "code",
   "execution_count": 368,
   "metadata": {},
   "outputs": [
    {
     "name": "stdout",
     "output_type": "stream",
     "text": [
      "GKKKKK HUNST HAFATATATATATAK G SAH PHAAAAAAA HUNST PHASASSK PSHGK PASUSK SAFASHAFA PASA PASSK PHSAKUK REDIT KAPASHTATUK YUCK TANST MAWALAH FOSE\n",
      "\n",
      "\n",
      "PASAHUNST PASATUK\n",
      "KUNST HUNST\n",
      "PASASHKAMAQAFASAMATAK NAFASHAPASATAK\n",
      "PAKUK STAAKAKUK\n",
      "PHASAKUK PHASASSK\n",
      "\n",
      "\n",
      "PORPOISES PURPOSES\n",
      "SHORENSTEIN BORENSTEIN\n",
      "STUCKER STUCK\n",
      "KUCHLER KUCHER\n",
      "DEFICIT'S ORIFICES\n",
      "\n",
      "\n",
      "UNSTABLE KUCK CONSTRAINED EMPHASIZED UNBALANCED CUCKOO STUCK CONFISCATED\n",
      "\n",
      "\n",
      "FRUSTRATED STUCK PANIC\n",
      "\n",
      "\n",
      "PANIC\n"
     ]
    }
   ],
   "source": [
    "print(' '.join(map(str, random_angry_words)))\n",
    "print(\"\\n\")\n",
    "print(' '.join(map(str, random_pasa_words)))\n",
    "print(' '.join(map(str, random_unst_words)))\n",
    "print(' '.join(map(str, random_atak_words)))\n",
    "print(' '.join(map(str, random_akuk_words)))\n",
    "print(' '.join(map(str, random_phas_words)))\n",
    "print(\"\\n\")\n",
    "print(' '.join(map(str, random_pasa)).upper())\n",
    "print(' '.join(map(str, random_unst)).upper())\n",
    "print(' '.join(map(str, random_atak)).upper())\n",
    "print(' '.join(map(str, random_akuk)).upper())\n",
    "print(' '.join(map(str, random_phas)).upper())\n",
    "print(\"\\n\")\n",
    "print(' '.join(map(str, random_angry_selected)).upper())\n",
    "print(\"\\n\")\n",
    "print(\"FRUSTRATED STUCK PANIC\")\n",
    "print(\"\\n\")\n",
    "print(\"PANIC\")"
   ]
  },
  {
   "cell_type": "code",
   "execution_count": 369,
   "metadata": {},
   "outputs": [
    {
     "name": "stdout",
     "output_type": "stream",
     "text": [
      "['YAHI', 'RADIDIDOO', 'BARINI', 'WAROO', 'SAAKALAHEE', 'MI', 'II', 'WARAWI', 'YIHAH', 'BASHIBI', 'HOOWASHASHASHOHI', 'WAREE', 'YAKINI', 'PADI', 'DADADIDOODI', 'HAANY', 'DEE', 'SI', 'BODABEE', 'LAWRINI']\n"
     ]
    }
   ],
   "source": [
    "happy_words = open(\"happy.txt\").read().split()\n",
    "random_happy_words = random.sample(happy_words, 20)\n",
    "print (random_happy_words)"
   ]
  },
  {
   "cell_type": "code",
   "execution_count": 370,
   "metadata": {},
   "outputs": [
    {
     "data": {
      "text/plain": [
       "[(('A', 'S', 'H', 'I'), 13),\n",
       " (('H', 'A', 'S', 'H'), 10),\n",
       " (('A', 'D', 'I', ' '), 10),\n",
       " (('A', 'D', 'E', 'E'), 9),\n",
       " (('D', 'E', 'E', ' '), 9),\n",
       " (('D', 'I', ' ', 'D'), 9),\n",
       " (('I', ' ', 'W', 'A'), 9),\n",
       " (('S', 'H', 'A', 'S'), 8),\n",
       " ((' ', 'P', 'A', 'D'), 8),\n",
       " (('I', 'N', 'I', ' '), 8),\n",
       " (('I', ' ', 'L', 'A'), 8),\n",
       " ((' ', 'W', 'A', 'R'), 8),\n",
       " (('A', 'R', 'I', ' '), 8),\n",
       " (('A', 'D', 'I', 'D'), 8),\n",
       " (('I', ' ', 'P', 'A'), 7),\n",
       " (('I', ' ', 'B', 'A'), 7),\n",
       " (('P', 'A', 'D', 'I'), 7),\n",
       " (('\\n', 'H', 'A', 'S'), 6),\n",
       " (('S', 'H', 'I', ' '), 6),\n",
       " (('P', 'A', 'S', 'I'), 6)]"
      ]
     },
     "execution_count": 370,
     "metadata": {},
     "output_type": "execute_result"
    }
   ],
   "source": [
    "happy_str = open(\"happy.txt\").read()\n",
    "b_pairs = [(happy_str[i], happy_str[i+1], happy_str[i+2], happy_str[i+3]) \n",
    "              for i in range(len(happy_str) - 3)]\n",
    "Counter(b_pairs).most_common(20)"
   ]
  },
  {
   "cell_type": "code",
   "execution_count": 371,
   "metadata": {},
   "outputs": [],
   "source": [
    "#(('A', 'S', 'H', 'I'), 13), \n",
    "#(('H', 'A', 'S', 'H'), 10), \n",
    "#('A', 'D', 'E', 'E'), 9), \n",
    "#(('S', 'H', 'A', 'S'), 8), \n",
    "#(('A', 'D', 'I', 'D'), 8),"
   ]
  },
  {
   "cell_type": "code",
   "execution_count": 372,
   "metadata": {},
   "outputs": [],
   "source": [
    "adid_words = open(\"adid.txt\").read().split()"
   ]
  },
  {
   "cell_type": "code",
   "execution_count": 373,
   "metadata": {},
   "outputs": [
    {
     "name": "stdout",
     "output_type": "stream",
     "text": [
      "['SHASHI', 'SHASHI'] ['HASHIBII', 'HASHI'] ['PADEE', 'RADEE'] ['SHASHI', 'SHASHI'] ['SHAKADIDI', 'RADIDO']\n"
     ]
    }
   ],
   "source": [
    "ashi_words = [item for item in happy_words if item.endswith(\"ASHI\")]\n",
    "hash_words = [item for item in happy_words if item.startswith(\"HASH\")]\n",
    "adee_words = [item for item in happy_words if item.endswith(\"ADEE\")]\n",
    "shas_words = [item for item in happy_words if item.startswith(\"SHAS\")]\n",
    "adid_words = random.sample(adid_words, 2)\n",
    "random_ashi_words = random.sample(ashi_words, 2)\n",
    "random_hash_words = random.sample(hash_words, 2)\n",
    "random_adee_words = random.sample(adee_words, 2)\n",
    "random_shas_words = random.sample(shas_words, 2)\n",
    "random_adid_words = random.sample(adid_words, 2)\n",
    "print (random_ashi_words,random_hash_words,random_adee_words,random_shas_words,random_adid_words)"
   ]
  },
  {
   "cell_type": "code",
   "execution_count": 374,
   "metadata": {},
   "outputs": [
    {
     "name": "stdout",
     "output_type": "stream",
     "text": [
      "['washy', 'takashi'] ['hot-shot', \"o'hashi\"] ['muddied', 'rudeen'] ['schussler', 'shuster'] ['cadiddlehopper', 'adid']\n"
     ]
    }
   ],
   "source": [
    "ashi = pronouncing.search(\"AA1 SH IY0\")\n",
    "hash1 = pronouncing.search(\"HH AA1 SH\")\n",
    "adee = pronouncing.search(\"AH1 D IY0\")\n",
    "shas = pronouncing.search(\"SH AH1 S\")\n",
    "adid = pronouncing.search(\"AH0 D IH1 D\")\n",
    "random_ashi = random.sample(ashi, 2)\n",
    "random_hash = random.sample(hash1, 2)\n",
    "random_adee = random.sample(adee, 2)\n",
    "random_shas = random.sample(shas, 2)\n",
    "random_adid = random.sample(adid, 2)\n",
    "print (random_ashi,random_hash,random_adee,random_shas,random_adid)"
   ]
  },
  {
   "cell_type": "code",
   "execution_count": 375,
   "metadata": {},
   "outputs": [
    {
     "name": "stdout",
     "output_type": "stream",
     "text": [
      "['bloody', 'adid', 'washy', 'squashy', 'motohashi', 'muddy', 'muddied', 'shuster']\n"
     ]
    }
   ],
   "source": [
    "happy_selected = open(\"happy_selected.txt\").read().split()\n",
    "random_happy_selected = random.sample(happy_selected, 8)\n",
    "print (random_happy_selected)"
   ]
  },
  {
   "cell_type": "code",
   "execution_count": 376,
   "metadata": {},
   "outputs": [
    {
     "name": "stdout",
     "output_type": "stream",
     "text": [
      "YAHI RADIDIDOO BARINI WAROO SAAKALAHEE MI II WARAWI YIHAH BASHIBI HOOWASHASHASHOHI WAREE YAKINI PADI DADADIDOODI HAANY DEE SI BODABEE LAWRINI\n",
      "\n",
      "\n",
      "SHASHI SHASHI\n",
      "HASHIBII HASHI\n",
      "PADEE RADEE\n",
      "SHASHI SHASHI\n",
      "SHAKADIDI RADIDO\n",
      "\n",
      "\n",
      "WASHY TAKASHI\n",
      "HOT-SHOT O'HASHI\n",
      "MUDDIED RUDEEN\n",
      "SCHUSSLER SHUSTER\n",
      "CADIDDLEHOPPER ADID\n",
      "\n",
      "\n",
      "BLOODY ADID WASHY SQUASHY MOTOHASHI MUDDY MUDDIED SHUSTER\n",
      "\n",
      "\n",
      "BUBBLY HAPPY SMILEY\n",
      "\n",
      "\n",
      "BUBBLY\n"
     ]
    }
   ],
   "source": [
    "print(' '.join(map(str, random_happy_words)))\n",
    "print(\"\\n\")\n",
    "print(' '.join(map(str, random_ashi_words)))\n",
    "print(' '.join(map(str, random_hash_words)))\n",
    "print(' '.join(map(str, random_adee_words)))\n",
    "print(' '.join(map(str, random_shas_words)))\n",
    "print(' '.join(map(str, random_adid_words)))\n",
    "print(\"\\n\")\n",
    "print(' '.join(map(str, random_ashi)).upper())\n",
    "print(' '.join(map(str, random_hash)).upper())\n",
    "print(' '.join(map(str, random_adee)).upper())\n",
    "print(' '.join(map(str, random_shas)).upper())\n",
    "print(' '.join(map(str, random_adid)).upper())\n",
    "print(\"\\n\")\n",
    "print(' '.join(map(str, random_happy_selected)).upper())\n",
    "print(\"\\n\")\n",
    "print(\"BUBBLY HAPPY SMILEY\")\n",
    "print(\"\\n\")\n",
    "print(\"BUBBLY\")"
   ]
  },
  {
   "cell_type": "code",
   "execution_count": 377,
   "metadata": {},
   "outputs": [
    {
     "name": "stdout",
     "output_type": "stream",
     "text": [
      "['MAROON', 'PHUL', 'HAAZAR', 'PARAUWA', 'PHUL', 'QUIET', 'PUAW', 'ROAM', 'LAURAHAUW', 'PASHEE', 'ROME', 'SAPHEYE', 'TAZARA', 'ZAHARAH', 'WROOH', 'NOO', 'NOSSE', 'WARAHARAU', 'HAUWA', 'FAAAAAAA']\n"
     ]
    }
   ],
   "source": [
    "hollow_words = open(\"hollow.txt\").read().split()\n",
    "random_hollow_words = random.sample(hollow_words, 20)\n",
    "print (random_hollow_words)"
   ]
  },
  {
   "cell_type": "code",
   "execution_count": 378,
   "metadata": {},
   "outputs": [
    {
     "data": {
      "text/plain": [
       "[(('A', 'R', 'A', 'H'), 11),\n",
       " (('P', 'A', 'R', 'A'), 10),\n",
       " (('R', 'A', 'Z', 'A'), 9),\n",
       " (('R', 'A', 'H', ' '), 9),\n",
       " (('O', 'O', 'N', '\\n'), 8),\n",
       " (('A', 'R', 'A', ' '), 8),\n",
       " ((' ', 'P', 'A', 'R'), 8),\n",
       " (('A', 'Z', 'A', 'R'), 7),\n",
       " (('A', 'R', 'A', 'R'), 7),\n",
       " (('H', 'A', 'R', 'A'), 6),\n",
       " (('Z', 'A', 'H', ' '), 6),\n",
       " (('A', 'R', 'A', 'Z'), 6),\n",
       " (('A', 'Z', 'A', 'H'), 6),\n",
       " (('A', ' ', 'N', 'A'), 6),\n",
       " (('A', 'R', 'A', 'U'), 6),\n",
       " (('R', ' ', 'B', 'L'), 5),\n",
       " (('H', ' ', 'W', 'R'), 5),\n",
       " (('A', 'H', 'A', 'R'), 5),\n",
       " (('A', 'R', ' ', 'R'), 5),\n",
       " (('R', ' ', 'R', 'A'), 5)]"
      ]
     },
     "execution_count": 378,
     "metadata": {},
     "output_type": "execute_result"
    }
   ],
   "source": [
    "hollow_str = open(\"hollow.txt\").read()\n",
    "c_pairs = [(hollow_str[i], hollow_str[i+1], hollow_str[i+2], hollow_str[i+3]) \n",
    "              for i in range(len(hollow_str) - 3)]\n",
    "Counter(c_pairs).most_common(20)"
   ]
  },
  {
   "cell_type": "code",
   "execution_count": 379,
   "metadata": {},
   "outputs": [],
   "source": [
    "#(('A', 'R', 'A', 'H'), 11), \n",
    "#(('P', 'A', 'R', 'A'), 10),\n",
    "#(('R', 'A', 'Z', 'A'), 9), \n",
    "#(('O', 'O', 'N', '\\n'), 8), \n",
    "#(('A', 'Z', 'A', 'R'), 7), "
   ]
  },
  {
   "cell_type": "code",
   "execution_count": 380,
   "metadata": {},
   "outputs": [
    {
     "name": "stdout",
     "output_type": "stream",
     "text": [
      "['RARAH', 'RAZARAH'] ['PARAUW', 'PARAUWA'] ['RAZAPA', 'RAZAR'] ['HASSOON', 'MOONSOON'] ['HAAZAR', 'SHAZAR']\n"
     ]
    }
   ],
   "source": [
    "arah_words = [item for item in hollow_words if item.endswith(\"ARAH\")]\n",
    "para_words = [item for item in hollow_words if item.startswith(\"PARA\")]\n",
    "raza_words = [item for item in hollow_words if item.startswith(\"RAZA\")]\n",
    "oon_words = [item for item in hollow_words if item.endswith(\"OON\")]\n",
    "azar_words = [item for item in hollow_words if item.endswith(\"AZAR\")]\n",
    "random_arah_words = random.sample(arah_words, 2)\n",
    "random_para_words = random.sample(para_words, 2)\n",
    "random_raza_words = random.sample(raza_words, 2)\n",
    "random_oon_words = random.sample(oon_words, 2)\n",
    "random_azar_words = random.sample(azar_words, 2)\n",
    "print (random_arah_words,random_para_words,random_raza_words,random_oon_words,random_azar_words)"
   ]
  },
  {
   "cell_type": "code",
   "execution_count": 381,
   "metadata": {},
   "outputs": [
    {
     "name": "stdout",
     "output_type": "stream",
     "text": [
      "['numerate', 'preoperative'] ['postoperative', 'preoperative'] ['representations', 'representational'] ['shigekuni', 'magoon'] ['prerequisite', 'citizens']\n"
     ]
    }
   ],
   "source": [
    "arah = pronouncing.search(\"AH0 R AH0\")\n",
    "para = pronouncing.search(\"P AH0 R AH0\")\n",
    "raza = pronouncing.search(\"R AH0 Z AH0\")\n",
    "oon = pronouncing.search(\"UW1 N\")\n",
    "azar = pronouncing.search(\"AH0 Z AH0\")\n",
    "random_arah = random.sample(arah, 2)\n",
    "random_para = random.sample(para, 2)\n",
    "random_raza = random.sample(raza, 2)\n",
    "random_oon = random.sample(oon, 2)\n",
    "random_azar = random.sample(azar, 2)\n",
    "print (random_arah,random_para,random_raza,random_oon,random_azar)"
   ]
  },
  {
   "cell_type": "code",
   "execution_count": 382,
   "metadata": {},
   "outputs": [
    {
     "name": "stdout",
     "output_type": "stream",
     "text": [
      "['wounded', 'cocoon', 'postoperative', 'citizen', 'representational', 'preoperative', 'bruun', 'representations']\n"
     ]
    }
   ],
   "source": [
    "hollow_selected = open(\"hollow_selected.txt\").read().split()\n",
    "random_hollow_selected = random.sample(hollow_selected, 8)\n",
    "print (random_hollow_selected)"
   ]
  },
  {
   "cell_type": "code",
   "execution_count": 383,
   "metadata": {},
   "outputs": [
    {
     "name": "stdout",
     "output_type": "stream",
     "text": [
      "MAROON PHUL HAAZAR PARAUWA PHUL QUIET PUAW ROAM LAURAHAUW PASHEE ROME SAPHEYE TAZARA ZAHARAH WROOH NOO NOSSE WARAHARAU HAUWA FAAAAAAA\n",
      "\n",
      "\n",
      "RARAH RAZARAH\n",
      "PARAUW PARAUWA\n",
      "RAZAPA RAZAR\n",
      "HASSOON MOONSOON\n",
      "HAAZAR SHAZAR\n",
      "\n",
      "\n",
      "NUMERATE PREOPERATIVE\n",
      "POSTOPERATIVE PREOPERATIVE\n",
      "REPRESENTATIONS REPRESENTATIONAL\n",
      "SHIGEKUNI MAGOON\n",
      "PREREQUISITE CITIZENS\n",
      "\n",
      "\n",
      "WOUNDED COCOON POSTOPERATIVE CITIZEN REPRESENTATIONAL PREOPERATIVE BRUUN REPRESENTATIONS\n",
      "\n",
      "\n",
      "FRAGILE HOLLOW LOST\n",
      "\n",
      "\n",
      "HOLLOW\n"
     ]
    }
   ],
   "source": [
    "print(' '.join(map(str, random_hollow_words)))\n",
    "print(\"\\n\")\n",
    "print(' '.join(map(str, random_arah_words)))\n",
    "print(' '.join(map(str, random_para_words)))\n",
    "print(' '.join(map(str, random_raza_words)))\n",
    "print(' '.join(map(str, random_oon_words)))\n",
    "print(' '.join(map(str, random_azar_words)))\n",
    "print(\"\\n\")\n",
    "print(' '.join(map(str, random_arah)).upper())\n",
    "print(' '.join(map(str, random_para)).upper())\n",
    "print(' '.join(map(str, random_raza)).upper())\n",
    "print(' '.join(map(str, random_oon)).upper())\n",
    "print(' '.join(map(str, random_azar)).upper())\n",
    "print(\"\\n\")\n",
    "print(' '.join(map(str, random_hollow_selected)).upper())\n",
    "print(\"\\n\")\n",
    "print(\"FRAGILE HOLLOW LOST\")\n",
    "print(\"\\n\")\n",
    "print(\"HOLLOW\")"
   ]
  },
  {
   "cell_type": "code",
   "execution_count": 384,
   "metadata": {},
   "outputs": [
    {
     "name": "stdout",
     "output_type": "stream",
     "text": [
      "GKKKKK HUNST HAFATATATATATAK G SAH PHAAAAAAA HUNST PHASASSK PSHGK PASUSK SAFASHAFA PASA PASSK PHSAKUK REDIT KAPASHTATUK YUCK TANST MAWALAH FOSE\n",
      "\n",
      "\n",
      "PASAHUNST PASATUK\n",
      "KUNST HUNST\n",
      "PASASHKAMAQAFASAMATAK NAFASHAPASATAK\n",
      "PAKUK STAAKAKUK\n",
      "PHASAKUK PHASASSK\n",
      "\n",
      "\n",
      "UNSTABLE KUCK CONSTRAINED EMPHASIZED UNBALANCED CUCKOO STUCK CONFISCATED\n",
      "\n",
      "\n",
      "FRUSTRATED STUCK PANIC\n",
      "\n",
      "\n",
      "PANIC\n",
      "\n",
      "\n",
      "\n",
      "\n",
      "YAHI RADIDIDOO BARINI WAROO SAAKALAHEE MI II WARAWI YIHAH BASHIBI HOOWASHASHASHOHI WAREE YAKINI PADI DADADIDOODI HAANY DEE SI BODABEE LAWRINI\n",
      "\n",
      "\n",
      "SHASHI SHASHI\n",
      "HASHIBII HASHI\n",
      "PADEE RADEE\n",
      "SHASHI SHASHI\n",
      "SHAKADIDI RADIDO\n",
      "\n",
      "\n",
      "BLOODY ADID WASHY SQUASHY MOTOHASHI MUDDY MUDDIED SHUSTER\n",
      "\n",
      "\n",
      "BUBBLY HAPPY SMILEY\n",
      "\n",
      "\n",
      "BUBBLY\n",
      "\n",
      "\n",
      "\n",
      "\n",
      "MAROON PHUL HAAZAR PARAUWA PHUL QUIET PUAW ROAM LAURAHAUW PASHEE ROME SAPHEYE TAZARA ZAHARAH WROOH NOO NOSSE WARAHARAU HAUWA FAAAAAAA\n",
      "\n",
      "\n",
      "RARAH RAZARAH\n",
      "PARAUW PARAUWA\n",
      "RAZAPA RAZAR\n",
      "HASSOON MOONSOON\n",
      "HAAZAR SHAZAR\n",
      "\n",
      "\n",
      "WOUNDED COCOON POSTOPERATIVE CITIZEN REPRESENTATIONAL PREOPERATIVE BRUUN REPRESENTATIONS\n",
      "\n",
      "\n",
      "FRAGILE HOLLOW LOST\n",
      "\n",
      "\n",
      "HOLLOW\n"
     ]
    }
   ],
   "source": [
    "print(' '.join(map(str, random_angry_words)))\n",
    "print(\"\\n\")\n",
    "print(' '.join(map(str, random_pasa_words)))\n",
    "print(' '.join(map(str, random_unst_words)))\n",
    "print(' '.join(map(str, random_atak_words)))\n",
    "print(' '.join(map(str, random_akuk_words)))\n",
    "print(' '.join(map(str, random_phas_words)))\n",
    "print(\"\\n\")\n",
    "# print(' '.join(map(str, random_pasa)).upper())\n",
    "# print(' '.join(map(str, random_unst)).upper())\n",
    "# print(' '.join(map(str, random_atak)).upper())\n",
    "# print(' '.join(map(str, random_akuk)).upper())\n",
    "# print(' '.join(map(str, random_phas)).upper())\n",
    "# print(\"\\n\")\n",
    "print(' '.join(map(str, random_angry_selected)).upper())\n",
    "print(\"\\n\")\n",
    "print(\"FRUSTRATED STUCK PANIC\")\n",
    "print(\"\\n\")\n",
    "print(\"PANIC\")\n",
    "print(\"\\n\")\n",
    "print(\"\\n\")\n",
    "print(' '.join(map(str, random_happy_words)))\n",
    "print(\"\\n\")\n",
    "print(' '.join(map(str, random_ashi_words)))\n",
    "print(' '.join(map(str, random_hash_words)))\n",
    "print(' '.join(map(str, random_adee_words)))\n",
    "print(' '.join(map(str, random_shas_words)))\n",
    "print(' '.join(map(str, random_adid_words)))\n",
    "print(\"\\n\")\n",
    "# print(' '.join(map(str, random_ashi)).upper())\n",
    "# print(' '.join(map(str, random_hash)).upper())\n",
    "# print(' '.join(map(str, random_adee)).upper())\n",
    "# print(' '.join(map(str, random_shas)).upper())\n",
    "# print(' '.join(map(str, random_adid)).upper())\n",
    "# print(\"\\n\")\n",
    "print(' '.join(map(str, random_happy_selected)).upper())\n",
    "print(\"\\n\")\n",
    "print(\"BUBBLY HAPPY SMILEY\")\n",
    "print(\"\\n\")\n",
    "print(\"BUBBLY\")\n",
    "print(\"\\n\")\n",
    "print(\"\\n\")\n",
    "print(' '.join(map(str, random_hollow_words)))\n",
    "print(\"\\n\")\n",
    "print(' '.join(map(str, random_arah_words)))\n",
    "print(' '.join(map(str, random_para_words)))\n",
    "print(' '.join(map(str, random_raza_words)))\n",
    "print(' '.join(map(str, random_oon_words)))\n",
    "print(' '.join(map(str, random_azar_words)))\n",
    "print(\"\\n\")\n",
    "# print(' '.join(map(str, random_arah)).upper())\n",
    "# print(' '.join(map(str, random_para)).upper())\n",
    "# print(' '.join(map(str, random_raza)).upper())\n",
    "# print(' '.join(map(str, random_oon)).upper())\n",
    "# print(' '.join(map(str, random_azar)).upper())\n",
    "# print(\"\\n\")\n",
    "print(' '.join(map(str, random_hollow_selected)).upper())\n",
    "print(\"\\n\")\n",
    "print(\"FRAGILE HOLLOW LOST\")\n",
    "print(\"\\n\")\n",
    "print(\"HOLLOW\")"
   ]
  },
  {
   "cell_type": "code",
   "execution_count": 388,
   "metadata": {},
   "outputs": [
    {
     "name": "stdout",
     "output_type": "stream",
     "text": [
      "GKKKKK SHGS SHKKKKK KRKRKRKRKR KRK KRK KRK G G G POHSHEEEEEE GUHHHHHH PSHGK KKKKK FOSEPAKEH NOSEPAKEH FOSE NO NO NO NO QUEFASIK PARAFASIK ANGGG EUNGGG MAWALAH BOLD BOLD CONFIDENTLY FLASHES TROPHIES OF WAR DARE UNSTEADY OPPOSITE FAITISON REDIT REDIT REDIT PAKUK MOSEKUK FOREN PRUJUCT OUTWARD PASAMANAKARAR KUK PASAKUK MARAKUK PASHAKUK HURUKUK STAAK STAAKA STAAKAKUK STAAKAKUKAKAKUKUK PHAAAAAAAH PHAAAAAAA SHHHHHHH HASA PASAKAK PASAPP PASA KEEK HUFA HUFATATATUK TATUK HAFATATUK HAFATATATATATAK MAATSH PHAATS PASAK TAHASAK PASITAK HUKKA HUKATUTATUK PASATUK HAKAPASATUK KAPASHTATUK RAPHASHATAPASATAK HATAK KUKATAK PASATAK HUKAPASATAK NAFASHAPASATAK HUKAMURAPHASHATAMAKATATAK SAFASHAFA TARAKAMAXAHAXAHAXATAPHASHATAK KARA QURATA PASASHKAMAQAFASAMATAK PAKUK KUK KUK PASAKUK SHAPHASAPHASAUK PHSAKUK PHASAKUK SAH SURHH SARH SAH SUH SAH HASA TENSED TUNST TANST HUNST FASAHANST SAKAPATUNST HUNCHT HUNST KUNST HUNST PASAHUNST HUNST YUNST RUNST RAR TARAK NASAPASAK TAKST KRASK HASK HUSK TUSK MUSK HAFUSK PASUSK PARARUSK HAFARUSK PASUSK PASSUK PASSK HASSK PHASASSK HAMUSK HUSK YUCK YUK HUCK HUSK HAASK TAASCK PHASHASSCK HASA PASASSKA SAWASSKA HATAAKA PASIMAKA TUTCHKA PHALASKA RARKKKK PHASKKKK\n",
      "HAAAAAAAAPEEEEE HASHI PUKI YELLO JELLO HASEE HASI PASI YANI HASHIBII PASINANO BASHIBI PASI NANO WAREE PASIBI HONISI SHASHI II I MIMI SHASHESHE PADEE PADEE DI DU WURRI BI HAAPI PINK RIBBONS OF OUPHORIA HASEE BARINI PASINI YINIPARIKEE YASI BARIBI ASHASHI FOSEE HOSI PASI BAREENI LALIIII LALEEEE LAWRINI LALADI DEEDEE DIDI DIDEE DEEDI WARINI WALEENI WALINI LASHIPANI YAKINI WAH WAHINI YAAPI HAPPI DADI DAH DIDAH YAHI NAH DIDA DIDA WARINA WARA WARA YIHAH RAHLI PADI PADI WAHYI BANANI LADEE PADEE HASI BANI SHASHI WARI MIMI YAYEE HARI LEE LI WI SHASHI SHASHI PARILIMIMI WADI DADI LIRAPALINI MILI LIMI DAH RADADIDI WARAWI BALI LALI LAPARI WALI WEEHEE BALI NANI HARI HARI TIKI TIRIRI HI HI RAREE SKEENY TREE LITI BEE SI HI BI DEESTI WEEREE LALI HUSHAKAPI MELIDY PIRIRI SI I SI I DEES EES MI MEESEEH TEE HEE EE EE PAKOR KEEKEE NAMASI DADA DIRAHASANI PASAPEEDO PIDO RAMARI RARI RARI BASI BA DADADIDOODI RADI DOODIDOO RADIDIDOO RADIDO PADIPADIDADI DOODI DOODI DOODI DOO RADEE DEE PADI PADOO PADIDOO RIRI PADI POOH RAPADUM RAPADOO RAPADEEDUMDUM RADEEBOBIDO BIDI BABA ROODAPAPEE DIDA PADA BODABEE RASHIDEE BEEFLY RADEE PADASHIKU HAAPAASIDOO DADOO SHABIYI YAYEE WEEDEEDEEE PASHIDI HAWI YANI PHARI LADADI SHAKADEEDOO PHAREE BARI HALEEBEE WAROO WAREE HUHI HOOHEE SHAKADIDI BERRY BERRY SUNSHINY WOOHOOHOO HAANY HAANY SAAKALAHEE RADIDOH WASHIO HOOWASHASHASHOHI SAFEEFOSHISHI WAEEKOKI SAKAPHEESO SIKABIKABO PEESAKIKOOKAKOO\n",
      "EEN HINNOM WEE YU HEART IN MINE FOO PASOO MOON SOON MOONSOON HOLE HASSOON MOONSOON PHOOOW PHUUUW WOOROOL MMM POQUE NOSSE SADDU MOOSH DO UNSE PASHEE POQUEUNSE ADDEE NUBUDENU SKY I BLOO N SHEES DO MOON MOTHER ONLU WOON MAROON OONLI LOVE I SOO MAROON PRY I OPEN SIIK SIIK SIIK SIIK FOR LITE FIERY GROUN SNEER GRASSY GROUN QUIET BLINE SITED PHOOM SLOOM HASOOM ASOOM EYE DUN NOO EYE EYE SAPHEYE WASHIKYE SYE HOSOL PHUL PHUL PHUHW PHUHW BLOW HOLLOW YO ON YO OWN COLD DROP DRIP MEES GRUAANG TRACING BLAR BLAR BLAAR BLUR BLUUR BLOOR KNOW BLOW PSHOO PHOSHOO PHOOSHOOH BLOOH FROOH WROOH WRUH WRUUH WRUOH WROUHOROUGH WOSH WAASH WASSHOOBOOROOHOROO PHOOROOHOO ALONE SAPHONE ROAM ROAM ROME WAIT RASHAPASAPHAHAWASAPA SAHARA HOURAIZAH ZA RAZAR RAZARAH LARARZA SHAZAR RARPARAZAR TARAR RAZAPA TAZARA TARAZAHARAZAH LARAR WARAHLAR RALAHZAHLARAR RATAR PARAZALANARA NARA NARAH NAA NAAH NAAR NAARAARAA NARALA NALARAH ZARASHARAH TAZAH HAAS HAAZAH HAAZAR RARAH PARARA PARAR PARAH HAZARAH ZAHARAH PARAZAH TARA NARA TARAZAH TAHAH RARYARAR HAUA HOUWA HAUWA ZAHAOWA ZAHRAHAUWA LAMARTAHARA LAU LAURAHAUW PARAUW PAOW PUAW PAUW TARAU WARAHARAU PARAUWA LARAURA WAMAPARAU PARAH TIRED PHOSHA BARAIHISA PASEEDEE HOSOPHASOHI FAAAAAAA\n"
     ]
    }
   ],
   "source": [
    "print(' '.join(map(str, angry_words)))\n",
    "print(' '.join(map(str, happy_words)))\n",
    "print(' '.join(map(str, hollow_words)))"
   ]
  },
  {
   "cell_type": "code",
   "execution_count": null,
   "metadata": {},
   "outputs": [],
   "source": []
  }
 ],
 "metadata": {
  "kernelspec": {
   "display_name": "Python 3",
   "language": "python",
   "name": "python3"
  },
  "language_info": {
   "codemirror_mode": {
    "name": "ipython",
    "version": 3
   },
   "file_extension": ".py",
   "mimetype": "text/x-python",
   "name": "python",
   "nbconvert_exporter": "python",
   "pygments_lexer": "ipython3",
   "version": "3.7.1"
  }
 },
 "nbformat": 4,
 "nbformat_minor": 2
}
