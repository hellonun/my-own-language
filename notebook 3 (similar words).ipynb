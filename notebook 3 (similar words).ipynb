{
 "cells": [
  {
   "cell_type": "code",
   "execution_count": 7,
   "metadata": {},
   "outputs": [
    {
     "name": "stdout",
     "output_type": "stream",
     "text": [
      "Requirement already satisfied: pronouncing in /anaconda3/lib/python3.7/site-packages (0.2.0)\r\n",
      "Requirement already satisfied: cmudict>=0.4.0 in /anaconda3/lib/python3.7/site-packages (from pronouncing) (0.4.2)\r\n"
     ]
    }
   ],
   "source": [
    "from collections import Counter\n",
    "!pip install pronouncing\n",
    "import pronouncing"
   ]
  },
  {
   "cell_type": "code",
   "execution_count": 4,
   "metadata": {},
   "outputs": [],
   "source": [
    "angry_str = open(\"angry.txt\").read()\n",
    "happy_str = open(\"happy.txt\").read()\n",
    "hollow_str = open(\"hollow.txt\").read()"
   ]
  },
  {
   "cell_type": "code",
   "execution_count": 21,
   "metadata": {},
   "outputs": [
    {
     "data": {
      "text/plain": [
       "[(('P', 'A', 'S', 'A'), 17),\n",
       " ((' ', 'P', 'A', 'S'), 17),\n",
       " (('K', ' ', 'P', 'A'), 12),\n",
       " (('N', 'S', 'T', ' '), 12),\n",
       " (('U', 'N', 'S', 'T'), 11),\n",
       " (('A', 'K', 'U', 'K'), 11),\n",
       " (('K', 'U', 'K', ' '), 11),\n",
       " (('U', 'S', 'K', ' '), 11),\n",
       " (('K', ' ', 'H', 'A'), 10),\n",
       " (('A', 'T', 'A', 'K'), 10),\n",
       " (('T', 'A', 'K', ' '), 10),\n",
       " (('P', 'H', 'A', 'S'), 9),\n",
       " (('K', 'K', 'K', 'K'), 8),\n",
       " (('K', ' ', 'H', 'U'), 8),\n",
       " (('A', 'A', 'A', 'A'), 8),\n",
       " (('H', 'A', 'S', 'A'), 8),\n",
       " (('A', 'T', 'A', 'T'), 8),\n",
       " (('S', 'K', ' ', 'H'), 8),\n",
       " (('H', 'H', 'H', 'H'), 7),\n",
       " (('U', 'K', ' ', 'P'), 7)]"
      ]
     },
     "execution_count": 21,
     "metadata": {},
     "output_type": "execute_result"
    }
   ],
   "source": [
    "a_pairs = [(angry_str[i], angry_str[i+1], angry_str[i+2],angry_str[i+3]) \n",
    "              for i in range(len(angry_str) -3)]\n",
    "Counter(a_pairs).most_common(20)"
   ]
  },
  {
   "cell_type": "code",
   "execution_count": 42,
   "metadata": {},
   "outputs": [
    {
     "data": {
      "text/plain": [
       "['AH0 N S T AA1 P AH0 B AH0 L']"
      ]
     },
     "execution_count": 42,
     "metadata": {},
     "output_type": "execute_result"
    }
   ],
   "source": [
    "pronouncing.phones_for_word(\"unstoppable\")"
   ]
  },
  {
   "cell_type": "code",
   "execution_count": null,
   "metadata": {},
   "outputs": [],
   "source": [
    "(('P', 'A', 'S', 'A'), 17), #done\n",
    "(('U', 'N', 'S', 'T'), 11), #done\n",
    "(('A', 'K', 'U', 'K'), 11), #done\n",
    "(('A', 'T', 'A', 'K'), 10), #done \n",
    "(('P', 'H', 'A', 'S'), 9), #done\n",
    "\n",
    "Ah = AH0\n",
    "Uck = AH1 K\n",
    "Nst = N S T\n",
    "Aht = AH1 T"
   ]
  },
  {
   "cell_type": "code",
   "execution_count": 51,
   "metadata": {},
   "outputs": [
    {
     "data": {
      "text/plain": [
       "['F AA1 R']"
      ]
     },
     "execution_count": 51,
     "metadata": {},
     "output_type": "execute_result"
    }
   ],
   "source": [
    "#search\n",
    "pronouncing.phones_for_word(\"far\")"
   ]
  },
  {
   "cell_type": "code",
   "execution_count": 40,
   "metadata": {
    "scrolled": true
   },
   "outputs": [
    {
     "data": {
      "text/plain": [
       "['campuses', 'encompasses', 'porpoises', 'purposes']"
      ]
     },
     "execution_count": 40,
     "metadata": {},
     "output_type": "execute_result"
    }
   ],
   "source": [
    "pronouncing.search(\"P AH0 S AH0\")"
   ]
  },
  {
   "cell_type": "code",
   "execution_count": 43,
   "metadata": {},
   "outputs": [
    {
     "data": {
      "text/plain": [
       "['anstett',\n",
       " 'aronstein',\n",
       " 'aronstein',\n",
       " 'augenstein',\n",
       " 'augenstein',\n",
       " 'balanced',\n",
       " 'bodenstein',\n",
       " 'bodenstein',\n",
       " 'bodensteiner',\n",
       " 'boeschenstein',\n",
       " 'boeschenstein',\n",
       " 'borenstein',\n",
       " 'borenstein',\n",
       " 'breidenstein',\n",
       " 'breidenstein',\n",
       " 'breitenstein',\n",
       " 'breitenstein',\n",
       " 'christiansted',\n",
       " 'constabulary',\n",
       " 'constantin',\n",
       " 'constituencies',\n",
       " 'constituency',\n",
       " 'constituent',\n",
       " 'constituents',\n",
       " \"constituents'\",\n",
       " 'constrain',\n",
       " 'constrained',\n",
       " 'constraining',\n",
       " 'constrains',\n",
       " 'constraint',\n",
       " 'constraints',\n",
       " 'constrict',\n",
       " 'constricted',\n",
       " 'constricting',\n",
       " 'constriction',\n",
       " 'constrictions',\n",
       " 'constrictor',\n",
       " 'constrictors',\n",
       " 'construcciones',\n",
       " 'construct',\n",
       " 'constructed',\n",
       " 'constructed',\n",
       " 'constructing',\n",
       " 'construction',\n",
       " 'constructionist',\n",
       " 'constructions',\n",
       " 'constructive',\n",
       " 'constructively',\n",
       " 'constructor',\n",
       " 'constructors',\n",
       " 'constructs',\n",
       " 'construe',\n",
       " 'construed',\n",
       " 'countenanced',\n",
       " 'counterbalanced',\n",
       " 'deconstruct',\n",
       " 'deconstruction',\n",
       " 'demonstrable',\n",
       " 'demonstrate',\n",
       " 'demonstrated',\n",
       " 'demonstrates',\n",
       " 'demonstrating',\n",
       " 'demonstration',\n",
       " 'demonstrations',\n",
       " 'demonstrator',\n",
       " 'demonstrators',\n",
       " 'distanced',\n",
       " 'eisenstadt',\n",
       " 'eisenstein',\n",
       " 'eisenstein',\n",
       " 'eizenstat',\n",
       " 'evanston',\n",
       " 'evidenced',\n",
       " 'experienced',\n",
       " 'falkenstein',\n",
       " 'falkenstein',\n",
       " 'fleckenstein',\n",
       " 'fleckenstein',\n",
       " 'frankenstein',\n",
       " 'frankenstein',\n",
       " \"frankenstein's\",\n",
       " \"frankenstein's\",\n",
       " 'goldenstein',\n",
       " 'goldenstein',\n",
       " 'grabenstein',\n",
       " 'grabenstein',\n",
       " 'gutekunst',\n",
       " 'happenstance',\n",
       " 'hartenstein',\n",
       " 'hartenstein',\n",
       " 'hauenstein',\n",
       " 'hauenstein',\n",
       " 'hertenstein',\n",
       " 'hertenstein',\n",
       " 'hohenstein',\n",
       " 'hohenstein',\n",
       " 'horenstein',\n",
       " 'horenstein',\n",
       " 'hottenstein',\n",
       " 'hottenstein',\n",
       " 'inconvenienced',\n",
       " 'inexperienced',\n",
       " 'influenced',\n",
       " 'katzenstein',\n",
       " 'katzenstein',\n",
       " 'klopfenstein',\n",
       " 'klopfenstein',\n",
       " 'laubenstein',\n",
       " 'laubenstein',\n",
       " 'levenstein',\n",
       " 'levenstein',\n",
       " 'licensed',\n",
       " 'lichtenstein',\n",
       " 'lichtenstein',\n",
       " 'liechtenstein',\n",
       " 'loewenstein',\n",
       " 'loewenstein',\n",
       " 'lowenstein',\n",
       " 'lowenstein',\n",
       " 'misconstrue',\n",
       " 'misconstrued',\n",
       " 'misconstrues',\n",
       " 'misconstruing',\n",
       " 'morganstern',\n",
       " 'orenstein',\n",
       " 'orenstein',\n",
       " 'outdistanced',\n",
       " 'pfannenstiel',\n",
       " 'preferenced',\n",
       " 'preferenced',\n",
       " 'provincetown',\n",
       " 'reconstruct',\n",
       " 'reconstructed',\n",
       " 'reconstructing',\n",
       " 'reconstruction',\n",
       " 'reconstructions',\n",
       " 'reconstructive',\n",
       " 'referenced',\n",
       " 'referenced',\n",
       " 'regensteiner',\n",
       " 'rosensteel',\n",
       " 'rosenstein',\n",
       " 'rosenstein',\n",
       " 'rosenstiel',\n",
       " 'rosenstock',\n",
       " 'rubenstein',\n",
       " 'rubenstein',\n",
       " 'schottenstein',\n",
       " 'schottenstein',\n",
       " 'sentenced',\n",
       " 'shorenstein',\n",
       " 'shorenstein',\n",
       " 'silenced',\n",
       " 'treuhandanstalt',\n",
       " 'unbalanced',\n",
       " 'unconstrained',\n",
       " 'unlicensed',\n",
       " 'unreconstructed',\n",
       " 'unstable',\n",
       " 'unstained',\n",
       " 'unstated',\n",
       " 'unsteady',\n",
       " 'unstinting',\n",
       " 'unstoppable',\n",
       " 'unstressed',\n",
       " 'unstructured',\n",
       " 'unstuck',\n",
       " 'wallenstein',\n",
       " 'wallenstein',\n",
       " 'wolfenstein']"
      ]
     },
     "execution_count": 43,
     "metadata": {},
     "output_type": "execute_result"
    }
   ],
   "source": [
    "pronouncing.search(\"AH0 N S T\")"
   ]
  },
  {
   "cell_type": "code",
   "execution_count": 45,
   "metadata": {},
   "outputs": [
    {
     "data": {
      "text/plain": [
       "['altucher',\n",
       " 'kentuckian',\n",
       " 'kentuckians',\n",
       " 'kentucky',\n",
       " \"kentucky's\",\n",
       " 'mashantucket',\n",
       " 'nantucket',\n",
       " \"nantucket's\",\n",
       " 'patuxent',\n",
       " 'patuxet',\n",
       " 'patuxets',\n",
       " 'pawtucket',\n",
       " 'pawtuxet',\n",
       " 'stucco',\n",
       " 'stuccoed',\n",
       " 'stuchell',\n",
       " 'stuck',\n",
       " 'stucke',\n",
       " 'stucker',\n",
       " 'stuckert',\n",
       " 'stuckey',\n",
       " 'stucki',\n",
       " 'stuckman',\n",
       " 'stucky',\n",
       " 'stukey',\n",
       " 'tuchman',\n",
       " 'tuck',\n",
       " 'tucked',\n",
       " 'tucker',\n",
       " \"tucker's\",\n",
       " 'tuckerman',\n",
       " 'tuckett',\n",
       " 'tuckey',\n",
       " 'tucking',\n",
       " 'tuckman',\n",
       " 'tucks',\n",
       " 'tuks',\n",
       " 'tux',\n",
       " 'tuxford',\n",
       " 'tuxhorn',\n",
       " 'unstuck',\n",
       " 'witucki']"
      ]
     },
     "execution_count": 45,
     "metadata": {},
     "output_type": "execute_result"
    }
   ],
   "source": [
    "pronouncing.search(\"T AH1 K\")"
   ]
  },
  {
   "cell_type": "code",
   "execution_count": 46,
   "metadata": {},
   "outputs": [
    {
     "data": {
      "text/plain": [
       "['cuckoo',\n",
       " 'kuc',\n",
       " 'kuchar',\n",
       " 'kuchenbecker',\n",
       " 'kucher',\n",
       " 'kuchler',\n",
       " 'kuchler',\n",
       " 'kuck',\n",
       " 'kuk',\n",
       " 'kukla']"
      ]
     },
     "execution_count": 46,
     "metadata": {},
     "output_type": "execute_result"
    }
   ],
   "source": [
    "pronouncing.search(\"K AH1 K\")"
   ]
  },
  {
   "cell_type": "code",
   "execution_count": 59,
   "metadata": {},
   "outputs": [
    {
     "data": {
      "text/plain": [
       "['adolphus',\n",
       " 'amorphous',\n",
       " 'beilfuss',\n",
       " 'beneficence',\n",
       " 'breakfast',\n",
       " 'breakfasts',\n",
       " 'briefest',\n",
       " 'cephus',\n",
       " 'confiscate',\n",
       " 'confiscated',\n",
       " 'confiscating',\n",
       " 'confiscation',\n",
       " 'deemphasize',\n",
       " 'deemphasizing',\n",
       " 'deficit',\n",
       " \"deficit's\",\n",
       " 'delfosse',\n",
       " 'dilophosaurus',\n",
       " 'dreyfus',\n",
       " 'dreyfus',\n",
       " \"dreyfus's\",\n",
       " 'dreyfuss',\n",
       " 'duffus',\n",
       " 'edifice',\n",
       " 'emphases',\n",
       " 'emphasis',\n",
       " 'emphasis',\n",
       " 'emphasize',\n",
       " 'emphasized',\n",
       " 'emphasizes',\n",
       " 'emphasizes',\n",
       " 'emphasizing',\n",
       " 'facade',\n",
       " 'facades',\n",
       " 'facetious',\n",
       " 'facetiously',\n",
       " 'facilitate',\n",
       " 'facilitated',\n",
       " 'facilitates',\n",
       " 'facilitating',\n",
       " 'facilitation',\n",
       " 'facilitator',\n",
       " \"facilitator's\",\n",
       " 'facilitators',\n",
       " 'facilities',\n",
       " 'facilities',\n",
       " 'facility',\n",
       " \"facility's\",\n",
       " 'fascell',\n",
       " 'fassulo',\n",
       " 'fasulo',\n",
       " 'flagofficer',\n",
       " 'flagofficers',\n",
       " 'ifas',\n",
       " 'interoffice',\n",
       " 'jeffus',\n",
       " 'josephus',\n",
       " 'lymphocyte',\n",
       " 'lymphocytes',\n",
       " 'magnificent',\n",
       " 'magnificently',\n",
       " 'memphis',\n",
       " 'memphis',\n",
       " 'metamorphasis',\n",
       " 'metamorphosis',\n",
       " 'obfuscate',\n",
       " 'obfuscation',\n",
       " \"office's\",\n",
       " 'officeholder',\n",
       " 'officeholders',\n",
       " 'officemax',\n",
       " 'officer',\n",
       " 'officers',\n",
       " 'offices',\n",
       " 'offices',\n",
       " 'orifice',\n",
       " 'orifices',\n",
       " 'overemphasize',\n",
       " 'overemphasized',\n",
       " 'overemphasizes',\n",
       " 'overemphasizing',\n",
       " 'preface',\n",
       " 'prefaced',\n",
       " 'professorial',\n",
       " 'prophecies',\n",
       " 'prophecy',\n",
       " 'prophesied',\n",
       " 'prophesied',\n",
       " 'prophesies',\n",
       " 'reemphasize',\n",
       " 'resurface',\n",
       " 'resurfaced',\n",
       " 'resurfacing',\n",
       " 'rothfuss',\n",
       " 'roughest',\n",
       " 'rufus',\n",
       " 'safest',\n",
       " 'searfoss',\n",
       " 'snafus',\n",
       " 'stiffest',\n",
       " 'stoltzfus',\n",
       " 'subsurface',\n",
       " 'surface',\n",
       " 'surfaceness',\n",
       " 'surfaces',\n",
       " 'surfaces',\n",
       " 'surfacing',\n",
       " 'toughest',\n",
       " 'typhus',\n",
       " 'ziegenfuss']"
      ]
     },
     "execution_count": 59,
     "metadata": {},
     "output_type": "execute_result"
    }
   ],
   "source": [
    "pronouncing.search(\"F AH0 S\")"
   ]
  },
  {
   "cell_type": "code",
   "execution_count": 53,
   "metadata": {
    "scrolled": true
   },
   "outputs": [
    {
     "data": {
      "text/plain": [
       "[(('A', 'S', 'H', 'I'), 13),\n",
       " (('H', 'A', 'S', 'H'), 10),\n",
       " (('A', 'D', 'I', ' '), 10),\n",
       " (('A', 'D', 'E', 'E'), 9),\n",
       " (('D', 'E', 'E', ' '), 9),\n",
       " (('D', 'I', ' ', 'D'), 9),\n",
       " (('I', ' ', 'W', 'A'), 9),\n",
       " (('S', 'H', 'A', 'S'), 8),\n",
       " ((' ', 'P', 'A', 'D'), 8),\n",
       " (('I', 'N', 'I', ' '), 8),\n",
       " (('I', ' ', 'L', 'A'), 8),\n",
       " ((' ', 'W', 'A', 'R'), 8),\n",
       " (('A', 'R', 'I', ' '), 8),\n",
       " (('A', 'D', 'I', 'D'), 8),\n",
       " (('I', ' ', 'P', 'A'), 7),\n",
       " (('I', ' ', 'B', 'A'), 7),\n",
       " (('P', 'A', 'D', 'I'), 7),\n",
       " (('\\n', 'H', 'A', 'S'), 6),\n",
       " (('S', 'H', 'I', ' '), 6),\n",
       " (('P', 'A', 'S', 'I'), 6)]"
      ]
     },
     "execution_count": 53,
     "metadata": {},
     "output_type": "execute_result"
    }
   ],
   "source": [
    "b_pairs = [(happy_str[i], happy_str[i+1], happy_str[i+2], happy_str[i+3]) \n",
    "              for i in range(len(happy_str) - 3)]\n",
    "Counter(b_pairs).most_common(20)"
   ]
  },
  {
   "cell_type": "code",
   "execution_count": null,
   "metadata": {},
   "outputs": [],
   "source": [
    "(('A', 'S', 'H', 'I'), 13), #done\n",
    "(('H', 'A', 'S', 'H'), 10), #done\n",
    "('A', 'D', 'E', 'E'), 9), #done\n",
    "(('S', 'H', 'A', 'S'), 8), #done\n",
    "(('A', 'D', 'I', 'D'), 8),"
   ]
  },
  {
   "cell_type": "code",
   "execution_count": 78,
   "metadata": {},
   "outputs": [
    {
     "data": {
      "text/plain": [
       "['AH0 D IH1 D']"
      ]
     },
     "execution_count": 78,
     "metadata": {},
     "output_type": "execute_result"
    }
   ],
   "source": [
    "pronouncing.phones_for_word(\"adid\")"
   ]
  },
  {
   "cell_type": "code",
   "execution_count": 62,
   "metadata": {},
   "outputs": [
    {
     "data": {
      "text/plain": [
       "['akashi',\n",
       " \"akashi's\",\n",
       " 'doshier',\n",
       " 'foshee',\n",
       " 'hayashi',\n",
       " 'higashi',\n",
       " 'hirabayashi',\n",
       " 'igarashi',\n",
       " 'kobayashi',\n",
       " 'moshier',\n",
       " 'motohashi',\n",
       " \"o'hashi\",\n",
       " 'quassia',\n",
       " 'squashy',\n",
       " 'tadashi',\n",
       " 'takahashi',\n",
       " 'takanashi',\n",
       " 'takashi',\n",
       " 'wakabayashi',\n",
       " \"washi's\",\n",
       " 'washy',\n",
       " 'yoshihashi']"
      ]
     },
     "execution_count": 62,
     "metadata": {},
     "output_type": "execute_result"
    }
   ],
   "source": [
    "pronouncing.search(\" AA1 SH IY0\")"
   ]
  },
  {
   "cell_type": "code",
   "execution_count": 65,
   "metadata": {},
   "outputs": [
    {
     "data": {
      "text/plain": [
       "['hashmi',\n",
       " 'hasz',\n",
       " 'hoshaw',\n",
       " 'hot-shot',\n",
       " 'hot-shots',\n",
       " 'hotshot',\n",
       " 'hotshots',\n",
       " 'motohashi',\n",
       " \"o'hashi\",\n",
       " 'ohashi',\n",
       " 'takahashi',\n",
       " 'yoshihashi']"
      ]
     },
     "execution_count": 65,
     "metadata": {},
     "output_type": "execute_result"
    }
   ],
   "source": [
    "pronouncing.search(\"HH AA1 SH\")"
   ]
  },
  {
   "cell_type": "code",
   "execution_count": 71,
   "metadata": {},
   "outputs": [
    {
     "data": {
      "text/plain": [
       "['bloodied',\n",
       " 'bloodier',\n",
       " 'bloodiest',\n",
       " 'bloody',\n",
       " 'buddie',\n",
       " 'buddier',\n",
       " 'buddiers',\n",
       " 'buddies',\n",
       " 'buddy',\n",
       " \"buddy's\",\n",
       " 'cruddy',\n",
       " 'cuddy',\n",
       " 'duddy',\n",
       " 'fuddy',\n",
       " 'huddie',\n",
       " 'huddy',\n",
       " 'huldie',\n",
       " 'judie',\n",
       " 'luddy',\n",
       " 'muddied',\n",
       " 'muddier',\n",
       " 'muddy',\n",
       " 'muddying',\n",
       " 'ruddy',\n",
       " 'rudeen',\n",
       " 'studied',\n",
       " 'studies',\n",
       " 'study',\n",
       " \"study's\",\n",
       " 'studying']"
      ]
     },
     "execution_count": 71,
     "metadata": {},
     "output_type": "execute_result"
    }
   ],
   "source": [
    "pronouncing.search(\"AH1 D IY0\")"
   ]
  },
  {
   "cell_type": "code",
   "execution_count": 73,
   "metadata": {},
   "outputs": [
    {
     "data": {
      "text/plain": [
       "['schussler', 'shuster', 'shusterman']"
      ]
     },
     "execution_count": 73,
     "metadata": {},
     "output_type": "execute_result"
    }
   ],
   "source": [
    "pronouncing.search(\"SH AH1 S\")"
   ]
  },
  {
   "cell_type": "code",
   "execution_count": 79,
   "metadata": {},
   "outputs": [
    {
     "data": {
      "text/plain": [
       "['adid', 'cadiddlehopper']"
      ]
     },
     "execution_count": 79,
     "metadata": {},
     "output_type": "execute_result"
    }
   ],
   "source": [
    "pronouncing.search(\"AH0 D IH1 D\")"
   ]
  },
  {
   "cell_type": "code",
   "execution_count": 80,
   "metadata": {},
   "outputs": [
    {
     "data": {
      "text/plain": [
       "[(('A', 'R', 'A', 'H'), 11),\n",
       " (('P', 'A', 'R', 'A'), 10),\n",
       " (('R', 'A', 'Z', 'A'), 9),\n",
       " (('R', 'A', 'H', ' '), 9),\n",
       " (('O', 'O', 'N', '\\n'), 8),\n",
       " (('A', 'R', 'A', ' '), 8),\n",
       " ((' ', 'P', 'A', 'R'), 8),\n",
       " (('A', 'Z', 'A', 'R'), 7),\n",
       " (('A', 'R', 'A', 'R'), 7),\n",
       " (('H', 'A', 'R', 'A'), 6),\n",
       " (('Z', 'A', 'H', ' '), 6),\n",
       " (('A', 'R', 'A', 'Z'), 6),\n",
       " (('A', 'Z', 'A', 'H'), 6),\n",
       " (('A', ' ', 'N', 'A'), 6),\n",
       " (('A', 'R', 'A', 'U'), 6),\n",
       " (('R', ' ', 'B', 'L'), 5),\n",
       " (('H', ' ', 'W', 'R'), 5),\n",
       " (('A', 'H', 'A', 'R'), 5),\n",
       " (('A', 'R', ' ', 'R'), 5),\n",
       " (('R', ' ', 'R', 'A'), 5)]"
      ]
     },
     "execution_count": 80,
     "metadata": {},
     "output_type": "execute_result"
    }
   ],
   "source": [
    "c_pairs = [(hollow_str[i], hollow_str[i+1], hollow_str[i+2], hollow_str[i+3]) \n",
    "              for i in range(len(hollow_str) - 3)]\n",
    "Counter(c_pairs).most_common(20)"
   ]
  },
  {
   "cell_type": "code",
   "execution_count": null,
   "metadata": {},
   "outputs": [],
   "source": [
    "(('A', 'R', 'A', 'H'), 11), #done\n",
    "(('P', 'A', 'R', 'A'), 10), #done\n",
    "(('R', 'A', 'Z', 'A'), 9), #done\n",
    "(('O', 'O', 'N', '\\n'), 8), #done\n",
    "(('A', 'Z', 'A', 'R'), 7), #done"
   ]
  },
  {
   "cell_type": "code",
   "execution_count": 90,
   "metadata": {},
   "outputs": [
    {
     "data": {
      "text/plain": [
       "['M UW1 N']"
      ]
     },
     "execution_count": 90,
     "metadata": {},
     "output_type": "execute_result"
    }
   ],
   "source": [
    "pronouncing.phones_for_word(\"moon\")"
   ]
  },
  {
   "cell_type": "code",
   "execution_count": 83,
   "metadata": {},
   "outputs": [
    {
     "data": {
      "text/plain": [
       "['numerate', 'postoperative', 'preoperative', 'pythagorus']"
      ]
     },
     "execution_count": 83,
     "metadata": {},
     "output_type": "execute_result"
    }
   ],
   "source": [
    "pronouncing.search(\"AH0 R AH0\")"
   ]
  },
  {
   "cell_type": "code",
   "execution_count": 84,
   "metadata": {},
   "outputs": [
    {
     "data": {
      "text/plain": [
       "['postoperative', 'preoperative']"
      ]
     },
     "execution_count": 84,
     "metadata": {},
     "output_type": "execute_result"
    }
   ],
   "source": [
    "pronouncing.search(\"P AH0 R AH0\")"
   ]
  },
  {
   "cell_type": "code",
   "execution_count": 88,
   "metadata": {},
   "outputs": [
    {
     "data": {
      "text/plain": [
       "['representational', 'representations', 'sarazen']"
      ]
     },
     "execution_count": 88,
     "metadata": {},
     "output_type": "execute_result"
    }
   ],
   "source": [
    "pronouncing.search(\"R AH0 Z AH0\")"
   ]
  },
  {
   "cell_type": "code",
   "execution_count": 91,
   "metadata": {},
   "outputs": [
    {
     "data": {
      "text/plain": [
       "['acuna',\n",
       " 'afternoon',\n",
       " \"afternoon's\",\n",
       " 'afternoons',\n",
       " 'albunex',\n",
       " 'altoona',\n",
       " 'annunzio',\n",
       " 'antoon',\n",
       " 'antuna',\n",
       " 'antunes',\n",
       " 'antunez',\n",
       " 'aoun',\n",
       " \"aoun's\",\n",
       " 'attune',\n",
       " 'attuned',\n",
       " 'baboon',\n",
       " \"baboon's\",\n",
       " \"baboon's\",\n",
       " 'baboons',\n",
       " 'baboons',\n",
       " 'balloon',\n",
       " 'ballooned',\n",
       " 'ballooning',\n",
       " 'balloonist',\n",
       " 'balloonists',\n",
       " 'balloons',\n",
       " 'banoun',\n",
       " 'barloon',\n",
       " 'bassoon',\n",
       " 'bassoonist',\n",
       " 'bethune',\n",
       " 'blueness',\n",
       " 'boon',\n",
       " 'boondocks',\n",
       " 'boone',\n",
       " 'boons',\n",
       " 'boonstra',\n",
       " 'boonton',\n",
       " 'boonville',\n",
       " 'borunda',\n",
       " 'breunig',\n",
       " 'breuninger',\n",
       " 'broun',\n",
       " 'bruen',\n",
       " 'bruening',\n",
       " 'bruna',\n",
       " 'brune',\n",
       " 'bruner',\n",
       " 'bruney',\n",
       " 'bruni',\n",
       " 'brunick',\n",
       " 'bruning',\n",
       " 'bruno',\n",
       " \"bruno's\",\n",
       " 'bruun',\n",
       " 'buehner',\n",
       " 'buena',\n",
       " 'buendia',\n",
       " 'buenger',\n",
       " 'buffoon',\n",
       " 'bunni',\n",
       " 'bunol',\n",
       " 'cahoon',\n",
       " 'calhoon',\n",
       " 'calhoun',\n",
       " 'cancun',\n",
       " 'cardoon',\n",
       " 'cartoon',\n",
       " 'cartooning',\n",
       " 'cartoonist',\n",
       " 'cartoonists',\n",
       " 'cartoons',\n",
       " 'chewning',\n",
       " 'choon',\n",
       " 'cloonan',\n",
       " 'clooney',\n",
       " 'clune',\n",
       " 'cluny',\n",
       " 'cocoon',\n",
       " 'cocooning',\n",
       " 'cocoons',\n",
       " 'cohoon',\n",
       " 'communal',\n",
       " 'commune',\n",
       " 'communes',\n",
       " 'communicable',\n",
       " 'communicate',\n",
       " 'communicated',\n",
       " 'communicates',\n",
       " 'communicating',\n",
       " 'communicative',\n",
       " 'communicator',\n",
       " 'communicators',\n",
       " 'communing',\n",
       " 'communion',\n",
       " 'communique',\n",
       " 'communities',\n",
       " 'communities',\n",
       " 'community',\n",
       " 'community',\n",
       " \"community's\",\n",
       " 'communitywide',\n",
       " 'contrabassoon',\n",
       " 'coon',\n",
       " 'coonan',\n",
       " 'coonce',\n",
       " 'coone',\n",
       " 'cooner',\n",
       " 'coones',\n",
       " 'cooney',\n",
       " 'coonradt',\n",
       " 'coonrod',\n",
       " 'coons',\n",
       " 'coontz',\n",
       " 'corroon',\n",
       " 'croon',\n",
       " 'crooner',\n",
       " 'crooning',\n",
       " 'croons',\n",
       " 'cuhney',\n",
       " 'cunard',\n",
       " 'cuneiform',\n",
       " 'cuneo',\n",
       " 'cuny',\n",
       " 'dannunzio',\n",
       " 'dekroon',\n",
       " 'deluna',\n",
       " 'disharoon',\n",
       " 'disunion',\n",
       " 'disunity',\n",
       " 'doonan',\n",
       " 'dooner',\n",
       " 'doonesbury',\n",
       " 'ducommun',\n",
       " 'duenow',\n",
       " 'duna',\n",
       " 'dunaj',\n",
       " 'dune',\n",
       " 'dunedin',\n",
       " 'dunes',\n",
       " 'dunja',\n",
       " 'dunleavy',\n",
       " 'dunlevy',\n",
       " 'eunice',\n",
       " 'eunice',\n",
       " 'eunuch',\n",
       " 'excommunicate',\n",
       " 'excommunicated',\n",
       " 'farabundo',\n",
       " 'festoon',\n",
       " 'festooned',\n",
       " 'fortuna',\n",
       " 'fortuny',\n",
       " 'freund',\n",
       " 'funeral',\n",
       " 'funerals',\n",
       " 'funerary',\n",
       " 'funes',\n",
       " 'galloon',\n",
       " 'gamunde',\n",
       " \"gamunde's\",\n",
       " 'garduno',\n",
       " 'garrido-luna',\n",
       " 'giunta',\n",
       " 'goon',\n",
       " 'goonan',\n",
       " 'goons',\n",
       " 'gounod',\n",
       " 'gruen',\n",
       " 'gruhn',\n",
       " 'grunebaum',\n",
       " 'gruner',\n",
       " 'grunert',\n",
       " 'grunewald',\n",
       " 'grunow',\n",
       " 'gunia',\n",
       " 'hamdoon',\n",
       " 'harpoon',\n",
       " 'harpoons',\n",
       " 'harroun',\n",
       " 'heun',\n",
       " 'hewn',\n",
       " 'hoon',\n",
       " 'hoonah',\n",
       " 'hunan',\n",
       " 'huntoon',\n",
       " 'iduna',\n",
       " 'immune',\n",
       " 'immunities',\n",
       " 'immunity',\n",
       " 'immunity',\n",
       " 'immuno',\n",
       " 'impugn',\n",
       " 'impugned',\n",
       " 'impugning',\n",
       " 'impugns',\n",
       " 'impunity',\n",
       " 'inopportune',\n",
       " 'jejune',\n",
       " 'joon',\n",
       " 'jr',\n",
       " 'jr.',\n",
       " 'juenemann',\n",
       " 'june',\n",
       " \"june's\",\n",
       " 'juneau',\n",
       " 'junek',\n",
       " 'junes',\n",
       " 'junia',\n",
       " 'junior',\n",
       " \"junior's\",\n",
       " 'juniors',\n",
       " 'juniper',\n",
       " 'junipers',\n",
       " 'junius',\n",
       " 'juno',\n",
       " \"juno's\",\n",
       " 'junod',\n",
       " 'junot',\n",
       " 'kahuna',\n",
       " 'karoun',\n",
       " 'karun',\n",
       " 'katuni',\n",
       " 'keune',\n",
       " 'koon',\n",
       " \"koon's\",\n",
       " 'koonce',\n",
       " 'koone',\n",
       " 'koonig',\n",
       " 'kooning',\n",
       " 'koons',\n",
       " 'koonts',\n",
       " 'koontz',\n",
       " 'koruna',\n",
       " 'kroon',\n",
       " 'krouner',\n",
       " 'kuehn',\n",
       " 'kuehne',\n",
       " 'kuhn',\n",
       " 'kuhner',\n",
       " 'kuhnert',\n",
       " 'kuhns',\n",
       " 'kuna',\n",
       " 'kunert',\n",
       " 'kunes',\n",
       " 'kuney',\n",
       " 'kunin',\n",
       " 'kunio',\n",
       " 'lacount',\n",
       " 'laffoon',\n",
       " 'lagoon',\n",
       " 'lagoons',\n",
       " 'laguna',\n",
       " 'lagunas',\n",
       " 'lampoon',\n",
       " \"lampoon's\",\n",
       " 'lampooned',\n",
       " 'lecount',\n",
       " 'liqun',\n",
       " 'loon',\n",
       " 'looney',\n",
       " 'loons',\n",
       " 'loony',\n",
       " 'luna',\n",
       " 'lunacy',\n",
       " 'lunar',\n",
       " 'lunatic',\n",
       " 'lunatics',\n",
       " 'magoon',\n",
       " 'majnoon',\n",
       " 'maroon',\n",
       " 'marooned',\n",
       " 'marooney',\n",
       " 'mattoon',\n",
       " 'mcclune',\n",
       " 'mccluney',\n",
       " 'mccuen',\n",
       " 'mccune',\n",
       " 'mckune',\n",
       " 'mezzaluna',\n",
       " 'mezzaluna',\n",
       " 'mhoon',\n",
       " 'milunovich',\n",
       " 'miscayuna',\n",
       " \"miscayuna's\",\n",
       " 'miscommunicate',\n",
       " 'mizuno',\n",
       " 'monsoon',\n",
       " 'monsoonal',\n",
       " 'monsoons',\n",
       " 'moon',\n",
       " \"moon's\",\n",
       " 'moonbeam',\n",
       " 'moonbeams',\n",
       " 'moondreamer',\n",
       " 'moondreamers',\n",
       " 'moone',\n",
       " 'mooney',\n",
       " 'mooneyham',\n",
       " 'mooneyhan',\n",
       " 'moonie',\n",
       " 'moonies',\n",
       " 'moonlight',\n",
       " 'moonlighting',\n",
       " 'moonlike',\n",
       " 'moonlit',\n",
       " 'moons',\n",
       " 'moonshine',\n",
       " 'moonstone',\n",
       " 'moonstones',\n",
       " 'moonstruck',\n",
       " 'moonves',\n",
       " 'muenchen',\n",
       " 'muenchow',\n",
       " 'muenster',\n",
       " 'muldoon',\n",
       " 'mungia',\n",
       " 'munguia',\n",
       " 'muni',\n",
       " 'munich',\n",
       " \"munich's\",\n",
       " 'munier',\n",
       " 'munis',\n",
       " 'muniz',\n",
       " 'munni',\n",
       " 'munos',\n",
       " 'munoz',\n",
       " 'natuna',\n",
       " 'neptunium',\n",
       " 'neuendorffer',\n",
       " 'neuner',\n",
       " 'newnam',\n",
       " 'newness',\n",
       " 'non-union',\n",
       " 'non-unionized',\n",
       " 'nonunion',\n",
       " 'nonunionized',\n",
       " 'noon',\n",
       " 'noonan',\n",
       " 'noone',\n",
       " 'nooney',\n",
       " 'noons',\n",
       " 'noontime',\n",
       " 'nunan',\n",
       " 'nunemaker',\n",
       " 'nunes',\n",
       " 'nunez',\n",
       " 'nuno',\n",
       " \"nuno's\",\n",
       " 'okuno',\n",
       " 'omohundro',\n",
       " 'oona',\n",
       " 'opportune',\n",
       " 'opportunism',\n",
       " 'opportunist',\n",
       " 'opportunists',\n",
       " 'opportunities',\n",
       " 'opportunity',\n",
       " 'osuna',\n",
       " 'ozuna',\n",
       " 'pecuniary',\n",
       " 'pelekunu',\n",
       " \"pelekunu's\",\n",
       " 'petunia',\n",
       " 'petunia',\n",
       " 'petunias',\n",
       " 'petunias',\n",
       " 'picayune',\n",
       " 'platoon',\n",
       " 'platoons',\n",
       " 'pontoon',\n",
       " 'pontoons',\n",
       " 'poon',\n",
       " 'prune',\n",
       " 'pruned',\n",
       " 'prunedale',\n",
       " 'pruner',\n",
       " 'prunes',\n",
       " 'prunier',\n",
       " 'pruning',\n",
       " 'prunskiene',\n",
       " 'puente',\n",
       " 'punic',\n",
       " 'punitive',\n",
       " 'punto',\n",
       " 'puny',\n",
       " 'raccoon',\n",
       " 'raccoons',\n",
       " 'ragunathan',\n",
       " 'rangoon',\n",
       " \"rangoon's\",\n",
       " 'remunerative',\n",
       " 'reunified',\n",
       " 'reunify',\n",
       " 'reunion',\n",
       " 'reunions',\n",
       " 'roone',\n",
       " 'rooney',\n",
       " \"rooney's\",\n",
       " 'rosmunda',\n",
       " 'rotundo',\n",
       " 'rotunno',\n",
       " 'rounsaville',\n",
       " 'ruhnau',\n",
       " 'rune',\n",
       " 'runes',\n",
       " 'runion',\n",
       " 'runions',\n",
       " 'sabunuma',\n",
       " 'saloon',\n",
       " 'saloons',\n",
       " 'sassoon',\n",
       " 'schoon',\n",
       " 'schooner',\n",
       " 'schooners',\n",
       " 'schoonmaker',\n",
       " 'schoonover',\n",
       " 'schueneman',\n",
       " 'schuenemann',\n",
       " 'schuneman',\n",
       " 'shigekuni',\n",
       " 'shoen',\n",
       " 'soon',\n",
       " 'sooner',\n",
       " \"sooner's\",\n",
       " 'sooners',\n",
       " 'soonest',\n",
       " 'soviet-union',\n",
       " 'spoon',\n",
       " 'spoonemore',\n",
       " 'spooner',\n",
       " 'spoonful',\n",
       " 'spoonfuls',\n",
       " 'spoons',\n",
       " 'strewn',\n",
       " 'subunit',\n",
       " 'subunits',\n",
       " 'suen',\n",
       " 'sunau',\n",
       " 'sundar',\n",
       " 'suni',\n",
       " 'sunia',\n",
       " 'sunni',\n",
       " 'sununu',\n",
       " \"sununu's\",\n",
       " 'suny',\n",
       " 'swoon',\n",
       " 'swooned',\n",
       " 'swooning',\n",
       " 'tatsuno',\n",
       " 'telemundo',\n",
       " 'terhune',\n",
       " 'thune',\n",
       " 'toon',\n",
       " 'toone',\n",
       " 'tribunal',\n",
       " 'tribunals',\n",
       " 'troon',\n",
       " 'tsuneo',\n",
       " 'tsuneo',\n",
       " 'tuna',\n",
       " 'tuna',\n",
       " 'tunable',\n",
       " 'tunafish',\n",
       " 'tunas',\n",
       " 'tune',\n",
       " 'tuned',\n",
       " 'tuneful',\n",
       " 'tuner',\n",
       " 'tunes',\n",
       " 'tuneup',\n",
       " 'tunic',\n",
       " 'tunica',\n",
       " \"tunica's\",\n",
       " 'tunicate',\n",
       " 'tuning',\n",
       " 'tunis',\n",
       " 'tunison',\n",
       " 'tycoon',\n",
       " \"tycoon's\",\n",
       " 'tycoons',\n",
       " 'typhoon',\n",
       " 'typhoons',\n",
       " 'una',\n",
       " 'unabom',\n",
       " 'unabomb',\n",
       " \"unabomb's\",\n",
       " 'unabomber',\n",
       " \"unabomber's\",\n",
       " 'unabombers',\n",
       " 'unabombing',\n",
       " 'unabombings',\n",
       " 'uneo',\n",
       " 'uni',\n",
       " 'unibancorp',\n",
       " 'unicef',\n",
       " \"unicef's\",\n",
       " 'unicom',\n",
       " 'unicorn',\n",
       " 'unicorp',\n",
       " \"unicorp's\",\n",
       " 'unicycle',\n",
       " 'unicycles',\n",
       " 'uniden',\n",
       " \"uniden's\",\n",
       " 'unified',\n",
       " 'unifil',\n",
       " 'uniforce',\n",
       " 'uniform',\n",
       " 'uniformed',\n",
       " 'uniformly',\n",
       " 'uniforms',\n",
       " 'unify',\n",
       " 'unifying',\n",
       " 'unigesco',\n",
       " 'unikom',\n",
       " 'unilab',\n",
       " 'unimate',\n",
       " 'union',\n",
       " \"union's\",\n",
       " 'uniondale',\n",
       " 'unionfed',\n",
       " 'unionism',\n",
       " 'unionist',\n",
       " 'unionists',\n",
       " 'unionize',\n",
       " 'unionized',\n",
       " 'unionizing',\n",
       " 'unions',\n",
       " \"unions'\",\n",
       " 'uniroyal',\n",
       " 'unisex',\n",
       " 'unisom',\n",
       " 'unison',\n",
       " 'unison',\n",
       " 'unisons',\n",
       " 'unisons',\n",
       " 'unisource',\n",
       " 'unisys',\n",
       " \"unisys'\",\n",
       " \"unisys's\",\n",
       " 'unit',\n",
       " 'unit',\n",
       " \"unit's\",\n",
       " 'unitary',\n",
       " 'unite',\n",
       " 'unitek',\n",
       " 'unitel',\n",
       " 'unitholder',\n",
       " 'unitholders',\n",
       " 'unitrin',\n",
       " \"unitrin's\",\n",
       " 'unitrode',\n",
       " \"unitrode's\",\n",
       " 'units',\n",
       " 'units',\n",
       " \"units'\",\n",
       " 'unity',\n",
       " 'unity',\n",
       " 'univa',\n",
       " 'univar',\n",
       " 'universe',\n",
       " 'universes',\n",
       " 'unix',\n",
       " 'uno',\n",
       " 'unocal',\n",
       " 'unocal',\n",
       " \"unocal's\",\n",
       " \"unocal's\",\n",
       " 'unos',\n",
       " 'unosom',\n",
       " 'unosom',\n",
       " 'unum',\n",
       " 'unum',\n",
       " 'vanunu',\n",
       " 'verboon',\n",
       " 'verboons',\n",
       " 'vicuna',\n",
       " 'viramune',\n",
       " 'viramunes',\n",
       " 'viromune',\n",
       " 'wotherspoon',\n",
       " 'wound',\n",
       " 'wounded',\n",
       " 'wounding',\n",
       " 'wounds',\n",
       " 'xiaoyun',\n",
       " 'yoon',\n",
       " 'yunde',\n",
       " 'yunich',\n",
       " 'yunis',\n",
       " 'zuni']"
      ]
     },
     "execution_count": 91,
     "metadata": {},
     "output_type": "execute_result"
    }
   ],
   "source": [
    "pronouncing.search(\"UW1 N\")"
   ]
  },
  {
   "cell_type": "code",
   "execution_count": 92,
   "metadata": {},
   "outputs": [
    {
     "data": {
      "text/plain": [
       "['artisan',\n",
       " 'artisans',\n",
       " 'bipartisanship',\n",
       " 'citizen',\n",
       " \"citizen's\",\n",
       " 'citizens',\n",
       " 'cognizance',\n",
       " 'cognizant',\n",
       " 'denizen',\n",
       " 'denizens',\n",
       " 'exquisite',\n",
       " \"gonzalez's\",\n",
       " 'honasan',\n",
       " 'non-partisan',\n",
       " 'nonpartisan',\n",
       " 'opposite',\n",
       " 'opposites',\n",
       " 'partisan',\n",
       " 'partisaned',\n",
       " 'partisans',\n",
       " 'partisanship',\n",
       " 'prerequisite',\n",
       " 'prerequisites',\n",
       " 'recognizance',\n",
       " 'representational',\n",
       " 'representations',\n",
       " 'requisite',\n",
       " 'requisites',\n",
       " 'sarazen']"
      ]
     },
     "execution_count": 92,
     "metadata": {},
     "output_type": "execute_result"
    }
   ],
   "source": [
    "pronouncing.search(\"AH0 Z AH0\")"
   ]
  },
  {
   "cell_type": "code",
   "execution_count": 94,
   "metadata": {},
   "outputs": [
    {
     "data": {
      "text/plain": [
       "['P AE1 N IH0 K']"
      ]
     },
     "execution_count": 94,
     "metadata": {},
     "output_type": "execute_result"
    }
   ],
   "source": [
    "pronouncing.phones_for_word(\"panic\")"
   ]
  },
  {
   "cell_type": "code",
   "execution_count": null,
   "metadata": {},
   "outputs": [],
   "source": []
  },
  {
   "cell_type": "code",
   "execution_count": null,
   "metadata": {},
   "outputs": [],
   "source": []
  },
  {
   "cell_type": "code",
   "execution_count": null,
   "metadata": {},
   "outputs": [],
   "source": []
  },
  {
   "cell_type": "code",
   "execution_count": null,
   "metadata": {},
   "outputs": [],
   "source": []
  },
  {
   "cell_type": "code",
   "execution_count": null,
   "metadata": {},
   "outputs": [],
   "source": []
  },
  {
   "cell_type": "code",
   "execution_count": null,
   "metadata": {},
   "outputs": [],
   "source": []
  },
  {
   "cell_type": "code",
   "execution_count": null,
   "metadata": {},
   "outputs": [],
   "source": []
  },
  {
   "cell_type": "code",
   "execution_count": 95,
   "metadata": {},
   "outputs": [
    {
     "data": {
      "text/plain": [
       "['anecdotes',\n",
       " 'anikst',\n",
       " 'anixter',\n",
       " 'annick',\n",
       " 'atlantic',\n",
       " \"atlantic's\",\n",
       " 'banick',\n",
       " 'banik',\n",
       " 'bannick',\n",
       " 'botanic',\n",
       " 'botanical',\n",
       " 'brannick',\n",
       " 'britannica',\n",
       " 'chovanec',\n",
       " 'danek',\n",
       " 'danica',\n",
       " 'electromechanical',\n",
       " 'finmeccanica',\n",
       " 'franek',\n",
       " 'galvanic',\n",
       " 'ganic',\n",
       " 'germanic',\n",
       " 'gigantic',\n",
       " 'hanneken',\n",
       " 'hispanic',\n",
       " 'hispanics',\n",
       " 'hovanec',\n",
       " 'inorganic',\n",
       " 'janick',\n",
       " 'janicke',\n",
       " 'janik',\n",
       " 'koranic',\n",
       " 'magellanic',\n",
       " 'manic',\n",
       " 'manicure',\n",
       " 'manicured',\n",
       " 'manicurist',\n",
       " 'manik',\n",
       " 'mannix',\n",
       " 'mazanec',\n",
       " 'mechanic',\n",
       " 'mechanic',\n",
       " 'mechanical',\n",
       " 'mechanically',\n",
       " 'mechanics',\n",
       " \"mechanics'\",\n",
       " 'mechanicsburg',\n",
       " 'messianic',\n",
       " 'midlantic',\n",
       " 'oceanic',\n",
       " 'organic',\n",
       " 'organically',\n",
       " 'organics',\n",
       " 'panek',\n",
       " 'panic',\n",
       " \"panic's\",\n",
       " 'panicked',\n",
       " 'panicking',\n",
       " 'panicky',\n",
       " 'panics',\n",
       " 'panik',\n",
       " 'puritanical',\n",
       " 'romanik',\n",
       " 'satanic',\n",
       " 'stanek',\n",
       " 'stefanic',\n",
       " 'stefanik',\n",
       " 'subvolcanic',\n",
       " 'szczepanik',\n",
       " 'telemecanique',\n",
       " 'titanic',\n",
       " 'transatlantic',\n",
       " 'transoceanic',\n",
       " 'tympanic',\n",
       " 'tyrannical',\n",
       " 'urbanik',\n",
       " 'volcanic',\n",
       " 'volcanically',\n",
       " 'yanick',\n",
       " 'yanik',\n",
       " 'yannick']"
      ]
     },
     "execution_count": 95,
     "metadata": {},
     "output_type": "execute_result"
    }
   ],
   "source": [
    "pronouncing.search(\"AE1 N IH0 K\")"
   ]
  },
  {
   "cell_type": "code",
   "execution_count": 96,
   "metadata": {},
   "outputs": [
    {
     "data": {
      "text/plain": [
       "['B AH1 B L IY0', 'B AH1 B AH0 L IY0']"
      ]
     },
     "execution_count": 96,
     "metadata": {},
     "output_type": "execute_result"
    }
   ],
   "source": [
    "pronouncing.phones_for_word(\"bubbly\")"
   ]
  },
  {
   "cell_type": "code",
   "execution_count": 97,
   "metadata": {},
   "outputs": [
    {
     "data": {
      "text/plain": [
       "['bubbly', 'doubly', 'hubley', 'kubly', 'rubley']"
      ]
     },
     "execution_count": 97,
     "metadata": {},
     "output_type": "execute_result"
    }
   ],
   "source": [
    "pronouncing.search(\"AH1 B L IY0\")"
   ]
  },
  {
   "cell_type": "code",
   "execution_count": 98,
   "metadata": {},
   "outputs": [
    {
     "data": {
      "text/plain": [
       "['bubbly']"
      ]
     },
     "execution_count": 98,
     "metadata": {},
     "output_type": "execute_result"
    }
   ],
   "source": [
    "pronouncing.search(\"AH1 B AH0 L IY0\")"
   ]
  },
  {
   "cell_type": "code",
   "execution_count": 99,
   "metadata": {},
   "outputs": [
    {
     "data": {
      "text/plain": [
       "['HH AA1 L OW0']"
      ]
     },
     "execution_count": 99,
     "metadata": {},
     "output_type": "execute_result"
    }
   ],
   "source": [
    "pronouncing.phones_for_word(\"hollow\")"
   ]
  },
  {
   "cell_type": "code",
   "execution_count": 100,
   "metadata": {},
   "outputs": [
    {
     "data": {
      "text/plain": [
       "['abalos',\n",
       " 'apollo',\n",
       " \"apollo's\",\n",
       " 'arebalo',\n",
       " 'arevalo',\n",
       " 'avalos',\n",
       " 'calo',\n",
       " 'carballo',\n",
       " 'carollo',\n",
       " 'ceballos',\n",
       " 'cefalo',\n",
       " 'cevallos',\n",
       " 'dalo',\n",
       " 'davalos',\n",
       " 'dzialo',\n",
       " 'figallo',\n",
       " 'follow',\n",
       " 'follow-up',\n",
       " 'followed',\n",
       " 'follower',\n",
       " 'followers',\n",
       " 'following',\n",
       " 'followings',\n",
       " 'follows',\n",
       " 'followup',\n",
       " 'garafalo',\n",
       " 'garofalo',\n",
       " 'gonzalo',\n",
       " 'holloman',\n",
       " 'hollow',\n",
       " \"hollow's\",\n",
       " 'holloway',\n",
       " 'hollowed',\n",
       " 'hollowing',\n",
       " 'hollows',\n",
       " 'khumalo',\n",
       " 'lovallo',\n",
       " 'mallo',\n",
       " 'malloseismic',\n",
       " 'malo',\n",
       " 'manalo',\n",
       " 'margalo',\n",
       " 'metallo',\n",
       " 'mollo',\n",
       " 'musalo',\n",
       " 'palos',\n",
       " 'pangallo',\n",
       " 'pollo',\n",
       " 'rollo',\n",
       " 'ruffalo',\n",
       " 'salo',\n",
       " 'solloway',\n",
       " 'soloviev',\n",
       " 'solow',\n",
       " 'strollo',\n",
       " 'swallow',\n",
       " 'swallowed',\n",
       " 'swallowing',\n",
       " 'swallows',\n",
       " 'vassallo',\n",
       " 'wallo',\n",
       " 'wallow',\n",
       " 'wallowed',\n",
       " 'wallowing',\n",
       " 'zollo']"
      ]
     },
     "execution_count": 100,
     "metadata": {},
     "output_type": "execute_result"
    }
   ],
   "source": [
    "pronouncing.search(\" AA1 L OW0\")"
   ]
  },
  {
   "cell_type": "code",
   "execution_count": null,
   "metadata": {},
   "outputs": [],
   "source": []
  }
 ],
 "metadata": {
  "kernelspec": {
   "display_name": "Python 3",
   "language": "python",
   "name": "python3"
  },
  "language_info": {
   "codemirror_mode": {
    "name": "ipython",
    "version": 3
   },
   "file_extension": ".py",
   "mimetype": "text/x-python",
   "name": "python",
   "nbconvert_exporter": "python",
   "pygments_lexer": "ipython3",
   "version": "3.7.1"
  }
 },
 "nbformat": 4,
 "nbformat_minor": 2
}
