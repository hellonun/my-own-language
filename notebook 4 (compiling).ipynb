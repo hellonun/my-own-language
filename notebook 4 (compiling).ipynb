{
 "cells": [
  {
   "cell_type": "code",
   "execution_count": 20,
   "metadata": {
    "scrolled": true
   },
   "outputs": [
    {
     "name": "stdout",
     "output_type": "stream",
     "text": [
      "Requirement already satisfied: pronouncing in /anaconda3/lib/python3.7/site-packages (0.2.0)\n",
      "Requirement already satisfied: cmudict>=0.4.0 in /anaconda3/lib/python3.7/site-packages (from pronouncing) (0.4.2)\n"
     ]
    }
   ],
   "source": [
    "!pip install pronouncing\n",
    "import pronouncing\n",
    "import random"
   ]
  },
  {
   "cell_type": "code",
   "execution_count": 85,
   "metadata": {},
   "outputs": [],
   "source": [
    "# panic\n",
    "panic_sound = pronouncing.phones_for_word(\"panic\")\n",
    "panic_sound_alike = pronouncing.search(\"AE1 N IH0 K\")\n",
    "panic_rhymes = pronouncing.rhymes(\"panic\")\n",
    "# pronouncing.search(pronouncing.rhyming_part(programming_phones)+\"$\")"
   ]
  },
  {
   "cell_type": "code",
   "execution_count": 80,
   "metadata": {},
   "outputs": [],
   "source": [
    "for i in range(10):\n",
    "    panic_sound_alike = random.choice(panic_sound_alike)"
   ]
  },
  {
   "cell_type": "code",
   "execution_count": 28,
   "metadata": {},
   "outputs": [],
   "source": [
    "angry_words = open(\"angry.txt\").read().split()"
   ]
  },
  {
   "cell_type": "code",
   "execution_count": 51,
   "metadata": {},
   "outputs": [],
   "source": [
    "words = open(\"angry.txt\").read().split()"
   ]
  },
  {
   "cell_type": "code",
   "execution_count": 92,
   "metadata": {},
   "outputs": [],
   "source": [
    "panic_sound_alike = pronouncing.search(\"N IH0 K\")"
   ]
  },
  {
   "cell_type": "code",
   "execution_count": 101,
   "metadata": {},
   "outputs": [
    {
     "data": {
      "text/plain": [
       "['mechanic', 'manik', 'banik']"
      ]
     },
     "execution_count": 101,
     "metadata": {},
     "output_type": "execute_result"
    }
   ],
   "source": [
    "random_panic_rhymes = random.sample(panic_rhymes, 3)\n",
    "random_panic_rhymes"
   ]
  },
  {
   "cell_type": "code",
   "execution_count": 94,
   "metadata": {},
   "outputs": [
    {
     "data": {
      "text/plain": [
       "['authentic', 'niznik', 'tunica', 'danek', 'photogenic']"
      ]
     },
     "execution_count": 94,
     "metadata": {},
     "output_type": "execute_result"
    }
   ],
   "source": [
    "random_panic_sound_alike = random.sample(panic_sound_alike, 5)\n",
    "random_panic_sound_alike"
   ]
  },
  {
   "cell_type": "code",
   "execution_count": 71,
   "metadata": {},
   "outputs": [
    {
     "data": {
      "text/plain": [
       "['QUEFASIK', 'PARAFASIK']"
      ]
     },
     "execution_count": 71,
     "metadata": {},
     "output_type": "execute_result"
    }
   ],
   "source": [
    "r_words = [item for item in words if item.endswith(\"IK\")]\n",
    "r_words"
   ]
  },
  {
   "cell_type": "code",
   "execution_count": 99,
   "metadata": {},
   "outputs": [
    {
     "data": {
      "text/plain": [
       "['HURUKUK',\n",
       " 'HAASK',\n",
       " 'PHASAKUK',\n",
       " 'MARAKUK',\n",
       " 'HUKAMURAPHASHATAMAKATATAK',\n",
       " 'PAKUK',\n",
       " 'HASK',\n",
       " 'PASSUK',\n",
       " 'PASSK',\n",
       " 'HAKAPASATUK']"
      ]
     },
     "execution_count": 99,
     "metadata": {},
     "output_type": "execute_result"
    }
   ],
   "source": [
    "r_words = [item for item in words if item.endswith(\"K\")]\n",
    "random_r_words = random.sample(r_words, 10)\n",
    "random_r_words"
   ]
  },
  {
   "cell_type": "code",
   "execution_count": 129,
   "metadata": {},
   "outputs": [
    {
     "name": "stdout",
     "output_type": "stream",
     "text": [
      "['TUNST', 'TAASCK', 'KARA', 'PASAHUNST', 'HUNST', 'MAATSH', 'NO', 'HASA', 'HASK', 'PASSUK', 'PASHAKUK', 'TARAKAMAXAHAXAHAXATAPHASHATAK', 'SAH', 'KRASK', 'PHAATS']\n"
     ]
    }
   ],
   "source": [
    "random_angry_words = random.sample(angry_words, 15)\n",
    "print (random_angry_words)"
   ]
  },
  {
   "cell_type": "code",
   "execution_count": 103,
   "metadata": {},
   "outputs": [],
   "source": [
    "#(('P', 'A', 'S', 'A'), 17), #done\n",
    "#(('U', 'N', 'S', 'T'), 11), #done\n",
    "#(('A', 'K', 'U', 'K'), 11), #done\n",
    "#(('A', 'T', 'A', 'K'), 10), #done \n",
    "#(('P', 'H', 'A', 'S'), 9), #done\n",
    "\n",
    "pasa = pronouncing.search(\"P AH0 S AH0\")\n",
    "unst = pronouncing.search(\"AH0 N S T\")\n",
    "atak = pronouncing.search(\"T AH1 K\")\n",
    "akuk = pronouncing.search(\"K AH1 K\")\n",
    "phas = pronouncing.search(\"F AH0 S\")"
   ]
  },
  {
   "cell_type": "code",
   "execution_count": 109,
   "metadata": {},
   "outputs": [],
   "source": [
    "random_pasa = random.sample(pasa, 2)\n",
    "random_unst = random.sample(unst, 2)\n",
    "random_atak = random.sample(atak, 2)\n",
    "random_akuk = random.sample(akuk, 2)\n",
    "random_phas = random.sample(phas, 2)"
   ]
  },
  {
   "cell_type": "code",
   "execution_count": 110,
   "metadata": {},
   "outputs": [
    {
     "name": "stdout",
     "output_type": "stream",
     "text": [
      "['encompasses', 'purposes'] ['schottenstein', 'demonstrate'] ['tuks', 'witucki'] ['kucher', 'kuck'] [\"dreyfus's\", 'searfoss']\n"
     ]
    }
   ],
   "source": [
    "print (random_pasa,random_unst,random_atak,random_akuk,random_phas)"
   ]
  },
  {
   "cell_type": "code",
   "execution_count": 126,
   "metadata": {},
   "outputs": [
    {
     "name": "stdout",
     "output_type": "stream",
     "text": [
      "['PASAK', 'PASATAK'] ['TUNST', 'PASAHUNST'] ['PASATAK', 'RAPHASHATAPASATAK'] ['MARAKUK', 'PASAKUK'] ['PHASAKUK', 'PHASASSK']\n"
     ]
    }
   ],
   "source": [
    "pasa_words = [item for item in words if item.startswith(\"PASA\")]\n",
    "unst_words = [item for item in words if item.endswith(\"UNST\")]\n",
    "atak_words = [item for item in words if item.endswith(\"ATAK\")]\n",
    "akuk_words = [item for item in words if item.endswith(\"AKUK\")]\n",
    "phas_words = [item for item in words if item.startswith(\"PHAS\")]\n",
    "random_pasa_words = random.sample(pasa_words, 2)\n",
    "random_unst_words = random.sample(unst_words, 2)\n",
    "random_atak_words = random.sample(atak_words, 2)\n",
    "random_akuk_words = random.sample(akuk_words, 2)\n",
    "random_phas_words = random.sample(phas_words, 2)\n",
    "print (random_pasa_words,random_unst_words,random_atak_words,random_akuk_words,random_phas_words)"
   ]
  },
  {
   "cell_type": "code",
   "execution_count": null,
   "metadata": {},
   "outputs": [],
   "source": [
    "stuck panic"
   ]
  },
  {
   "cell_type": "code",
   "execution_count": null,
   "metadata": {},
   "outputs": [],
   "source": []
  }
 ],
 "metadata": {
  "kernelspec": {
   "display_name": "Python 3",
   "language": "python",
   "name": "python3"
  },
  "language_info": {
   "codemirror_mode": {
    "name": "ipython",
    "version": 3
   },
   "file_extension": ".py",
   "mimetype": "text/x-python",
   "name": "python",
   "nbconvert_exporter": "python",
   "pygments_lexer": "ipython3",
   "version": "3.7.1"
  }
 },
 "nbformat": 4,
 "nbformat_minor": 2
}
